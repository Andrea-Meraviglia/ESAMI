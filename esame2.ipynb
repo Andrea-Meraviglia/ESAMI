{
 "cells": [
  {
   "cell_type": "markdown",
   "id": "38d6a5ce",
   "metadata": {},
   "source": [
    "# Programming in Python\n",
    "## Exam: July 5, 2021\n",
    "\n",
    "\n",
    "You can solve the exercises below by using standard Python 3.9 libraries, NumPy, Matplotlib, Pandas, PyMC3.\n",
    "You can browse the documentation: [Python](https://docs.python.org/3.9/), [NumPy](https://numpy.org/doc/stable/user/index.html), [Matplotlib](https://matplotlib.org/3.3.1/contents.html), [Pandas](https://pandas.pydata.org/pandas-docs/version/1.2.5/), [PyMC3](https://docs.pymc.io/).\n",
    "You can also look at the [slides of the course](https://homes.di.unimi.it/monga/lucidi2021/pyqb00.pdf) or your code on [GitHub](https://github.com).\n",
    "\n",
    "**It is forbidden to communicate with others.** \n"
   ]
  },
  {
   "cell_type": "code",
   "execution_count": 1,
   "id": "e44dce22",
   "metadata": {},
   "outputs": [],
   "source": [
    "%matplotlib inline\n",
    "import numpy as np   # type: ignore\n",
    "import pandas as pd  # type: ignore\n",
    "import matplotlib.pyplot as plt # type: ignore\n",
    "import pymc3 as pm   # type: ignore"
   ]
  },
  {
   "cell_type": "markdown",
   "id": "a893d294",
   "metadata": {},
   "source": [
    "### Exercise 1 (max 3 points)\n",
    "\n",
    "You have to analyze the genome of *Seicercus examinandus* as collected by the US National Center for Biotechnology Information (NCBI Reference Sequence: NC_051526.1). You have the data in FASTA format: a text file in which the first line (starting with `>`) is a comment, then you get the genome data split over many lines. The name of the file is `nc_051526_1.fasta`.\n",
    "\n",
    "Read the genome in a variable of type `str`.\n"
   ]
  },
  {
   "cell_type": "code",
   "execution_count": 2,
   "id": "927dbbcc",
   "metadata": {},
   "outputs": [],
   "source": [
    "genome: str"
   ]
  },
  {
   "cell_type": "code",
   "execution_count": 3,
   "id": "f8221bbe",
   "metadata": {},
   "outputs": [],
   "source": [
    "genome = ''\n",
    "\n",
    "with open('nc_051526_1.fasta') as f_genome:\n",
    "    for line in f_genome:\n",
    "        if not line.startswith('>'):\n",
    "            genome += line.strip('\\n')"
   ]
  },
  {
   "cell_type": "code",
   "execution_count": 4,
   "id": "2b7d9947",
   "metadata": {},
   "outputs": [
    {
     "name": "stdout",
     "output_type": "stream",
     "text": [
      "GTCCCTGTAGCTTATATAAAGCATGACACTGAAGATGTCAAGATGGCTGTCACACACACCCAAGGACAAAAGACTTAGTCCTAACCTTACTGTTGGTTGTTGCTAGGGATATACATGCGAGTATCCGCGCGCCAGTGTAGACGCCCTGGGTACCCTAACACACTAGGTCGACAGGAGCAGGTATCAGGCACACCCACGCTGTAGCCCAAAACGCCTTGCAATTGCCACGCCCCCACGGGTTCTCAGCAGTAGTTAACATTAAGCAATGAGTGCAAACTTGACTTAGCCATAGCAATCTAGGGTCGGTCAATCCTGTGCCAGCCACCGCGGTCATACAGGAGACCCAAATCAACGTTATAACGGCGTAAAGAGTGGTCACATGCTATCTAAAGTAACTAAGATTAAAAGGTAACTGAGCTGTCATAAGCCCAAGATGCCCATAAGGCCTCCTACAAAGAAGATCTTAGACCAACGATTTATTGAAGCCCACGAAAGCCAGGGCCCAAACTGGGATTAGATACCCCACTATGCCTGGCCCTAAATCTTGATGCTCGATCTTACCGGAGCATCCGCCCGAGAACTACGAGCACCAACGCTTAAAACTCTAAGGACCTGGCGGTGTTCCAAACCCACCTAGAGGAGCCTGTTCTGTAATCGATGATCCACGATATACCTGACCATTCCTTGCCAAATCAGCCTATATACCGCCGTCGCCAGCCCACCCAGCATGAAGGCCCAACAGTGGACGCAATAGCCCTACCGCGCTAATACGACAGGTCAAGGTATAGCCCATGGAATGGAAGCAATGGGCTACATTTTCTAAGATAGAACACAACGGCAAAGGGATATGAAACTGCCCCTGGAAGGAGGATTTAGCAGTAAAGTGGGACAATCGAGCCCTCTTTAAGCCGGCCCTGGAGCACGTACATACCGCCCGTCGCCCTCATCAAAAGCGACCCCCCCCCCCCATACCTAATAAGCTACGCAGCCGAAGATGAGGTAAGTCGTAACAAGGTAAGTGTACCGGAAGGTGCACTTAGATTACCAAGACGTAGCTTTAATGAAAGCATTCAGCTTACGCCTGAAAGATATCTGCTCACACCAGGTCGTCTTGATGCCAAACTCTAGCCCAACCCACATGACTTAGAATAACAAAGCTACTTACACAACCCCTAACTAAAGCATTTACTAGTCCCAGTATAGGCGATAGAAAAGACACTATTGGAGCGATAGAGACCACGTACCGTAAGGGAAAGATGAAATAGTAATGAAAAAAATAAGCTAAAAACAGCAAAGATCAACCCTTGTACCTTTTGCATCATGGTCTAGCAAGAAAAACCAAGCAAAATGAATTTTAGTTTGCCACCCCGAAACCCAAGCGAGCTACTTACGAGCAGCTAATCTTGAGCGAACCCGTCTCTGTTGCAAAAGAGTGGGATGACTTGTCAGTAGAGGTGAAAAGCCAACCGAGCTGGGTGATAGCTGGTTGCCTGTGAAACGAATCTAAGTTCACTCTTAATTCTTCTCCAAGGAAAATCAGAACCCTAATGAAGCGAATTAAGGGCTATTTAAAGGAGGTACAGCTCCTTTAAAAAAGAATACAATCTCCACGAGCGGATAAATAATTAAAATACAAACCTAATGTGGGCCCTCAAGCAGCCATCAACAAAGAGTGCGTTAAAGCTCTGTGTTCTAAAAATATAAGAACTATATGACTCCCTCCCCACTAACAGGCTAACCTATGACAATAGGAGAATTAATGCTAGAATGAGTAACCAGGGTTCTCCCTCTTCGACGCAAGCTTACATCCGTACATTATTAACAAGCCACCATATACGATCAATCCAACAAGCACTGTATTAACTACCTTGTTAACCCGACAGAGGAGCGTCCACTAAGAAAGATTAAAACCTGTAAAAGGAACTCGGCAAACACGTCAAGGCCCGACTGTTTACCAAAAACATAGCCTTCAGCAAACCTACAGACAAGTATTGAAGGTGATGCCTGCCCGGTGACCCGATGTTTAACGGCCGCGGTATCCTAACCGTGCAAAGGTAGCGCAATCAATTGTCCCGTAAATCGGGACTTGTATGAATGGCTAAACGAGGTCTTAACTGTCTCTTACAGGCAATCGGTGAAATTGATCTCCCTGTGCGAAAGCAGGGATAAACACATAAGACGAGAAGACCCTGTGGAACTTTAAAAACAGCAACCACCCCTACATACATCCAACCCCACCCCGGGCACACTTATCCCACGGGCTTCTGGTTCGCATTTTTTCGGTTGGGGCGACCTTGGAGCAAAACAAAACCTCCAAAAATTAGACCATCCCTCTAGACCAAGAGCAACCTCTCAACGTGCTAACAGCACCCAGACCCAATACATTTGACCAATGGACCAAGCTACCCCAGGGATAACAGCGCAATCTCCTCCAAGAGTCCATATCGACGGGGAGGTTTACGACCTCGATGTTGGATCAGGACATCCTAGTGGTGCAGCCGCTACTAAGGGTTCGTTTGTTCAACGATTAACAGTCCTACGTGATCTGAGTTCAGACCGGAGTAATCCAGGTCGGTTTCTATCTATGATGAACTCTTCCCAGTACGAAAGGATAGGAAAAGTGAGGCCAATACCACAAGCAAGCCTTCGCCTTAAGTAATGAAACCAACTAAATTACAAAAGGCTATCACCTTCCCCCACGTCCTAGAAAAGGACCAGCTAGCGTGGCAGAGCTCGGCAAATGCAAAAGGCTTAAGTCCTTTAACTCAGAGGTTCAAATCCTCTCCCTAGCTTCCTCTCAACCTCCCATGACCAACCAACCCCTTCTAATCAACCTTATCATAGCCCTCTCCTATGCCCTCCCCATCCTAATTGCAGTAGCCTTCCTCACACTAGTAGAGCGAAAAATCCTAAGTTACATACAAGGCCGAAAAGGCCCAAATGTCGTCGGCCCTTTTGGACTGCTACAACCCCTAGCAGACGGAGTAAAACTGTTCATCAAAGAACCCATCCGCCCGTCAACCTCTTCTCCCATTCTATTCATTGCAACCCCTATACTGGCCCTTCTCCTTGCAATCTCAATTTGAATCCCCCTCCCCCTACCATTCTCCCTCGCAGACCTCAACCTAGGCCTACTCTTCCTACTAGCCATATCTAGCCTGGCGGTGTACTCTATTCTATGATCAGGCTGAGCTTCCAACTCAAAGTATGCCCTAATCGGGGCCCTACGAGCAGTAGCCCAAACTATTTCCTACGAGGTCACTCTAGCAATCATCCTTCTATCCGTTATTGTCCTCAGCGGAAACTACACCCTCAGCACCCTTGCAGTCACCCAAGAACCCCTCTACCTCATCTTCTCATGCTGACCCCTAGCCATAATGTGATATGTATCCACGCTTGCTGAAACCAACCGCGCCCCATTCGACCTGACTGAGGGGGAATCAGAGCTAGTATCGGGATTCAACGTAGAGTACGCGGCAGGACCCTTTGCCCTATTCTTCTTAGCTGAGTACGCCAACATTATACTTATAAACACATTAACCGCCATCCTATTTTTCAACCCAAGCCTCTTCAACCTACCACAAGAACTCTTCCCCATCGCACTGGCCACAAAAACCCTCCTACTATCCGCAGGGTTCTTATGGGTCCGAGCCTCCTACCCCCGATTCCGATACGACCAGCTAATGCACCTCCTATGAAAAAACTTCCTCCCACTAACCCTAGCCCTATGCCTGTGACACATCAGCATGCCAATCTGCTATGCAGGCCTCCCACCCTACCTATAAGGGCCCAGGAAATGTGCCTGAACACCCAAGGGTCACTATGATAAAGTGAACATAGAGGTATACCAGCCCTCTCATTTCCTACCCTCTAGAAAAGCAGGAATTGAACCTACACTAGAGAGATCAAAACCCTCCATACTTCCTTTATATTATTTTCTAGTAGGGTCAGCTAAACAAGCTATCGGGCCCATACCCCGAAAATGATGGTTCAACCCCTTCCCCTGCTAATGAACCCCCAAGCAAAACTAATCTTCACTACAAGCCTCCTACTAGGAACAACCATCACAATCTCGAGCAACCACTGAATCACCGCCTGAGCCGGCCTTGAAATCAACACCCTCGCCATTTTGCCCCTAATCTCCAAATCCCACCACCCCCGAGCCATCGAAGCAGCAACTAAATATTTTCTAGTCCAAGCAACTGCCTCAGCCCTAGTTCTATTCTCCAGCATAACCAATGCTTGACACACCGGACAATGAGACATCACCCAACTAACTCACCCAGAATCATGCCTGATCCTAACCTCAGCCATCGCGATAAAACTGGGCCTAGCTCCATTCCACTTTTGATTCCCCGAAGTACTGCAAGGGTCCCCCCTCATCACCGGGCTGCTACTATCCACAGTCATAAAATTCCCCCCAATCACTCTATTCCTCATAACGTCACACTCCCTTAACCCGACCCTACTGACCTGAATAGCCCTTCTATCCGCAGCCCTAGGAGGATGAATGGGACTCAACCAAACCCAAGTCCGAAAAATCCTAGCCTTCTCCTCCATCGCTCACCTGGGCTGAATGACTATCATCATCTCCTACAATCCTAAGCTGACACTACTAAACTTCTACCTCTACGCCCTCATAACCTCTGCTACATTCCTAGCCCTAAACTCTATTAAAGTTCTAAAGCTATCTACCCTGATAACCTCATGAACAAAAACCCCTGCACTAAACGCAATGCTATTTCTAGTCCTACTCTCCCTAGCAGGCCTCCCCCCTCTAACAGGATTCCTCCCAAAATGACTCATCATTCAAGAACTAACCAAACAAGGCATAGCCCCAGCAGCAGTAGTAATCTCCCTCCTATCCCTATTAGGCCTATTCTTCTACCTTCGCCTCGCATATTGTGCAACAATTACACTTCCCCCACACGCTACAAACCAAATGAAACTATGACACACTAACAAACCAACCCATGCCTTAGTCGCCATTTTAGCCATCACATCCACTACACTCCTGCCCATTTCCCCAATAATCTCCACCCTCCTATAAGAAACTTAGGTTCACCCAAACCGAAGGCCTTCAAAGCCTTAAACAAGAGTTAGACCCTCTTAGTTTCTGCTAAAACCCGCAGGACACTACCCTGCATCCCCTGAATGCAACCCAGGTACTTTAACTTAAGCTAGGGCTTTGCTGCTACTCCTAGACAGATGGGCTTCGATCCCATGACCCTGTAGTTAACAGCTACATGCCCAAACCAACAGGCTTCTGCCTACAGACCCCGGCACACGGTCAGTGCGCATCAATGAGCTTGCAACCCATCATGAATTTCACTACAGAGTCGATAAGAAGAGGAATTGAACCTCTGTAAAAAGGACTACAGCCTAACGCTTATACACTCAGCCATCTTACCTATGACATTCATTAACCGATGACTATTCTCAACCAACCATAAAGACATCGGCACCCTATACCTAATCTTCGGAGCATGAGCGGGCATGGTAGGCACAGCCCTAAGCCTCCTGATCCGAGCAGAACTAGGCCAACCAGGTGCCCTCCTAGGAGATGATCAAGTATACAACGTGGTAGTCACTGCCCACGCCTTCGTAATAATCTTCTTCATAGTTATGCCCATTATAATCGGAGGCTTCGGAAACTGACTAGTTCCCCTAATAATCGGAGCCCCTGACATAGCATTCCCCCGAATAAACAACATAAGCTTCTGACTACTCCCCCCATCCTTCCTACTACTACTAGCCTCATCCACAGTAGAAGCTGGGGTAGGAACAGGCTGAACAGTCTACCCCCCTCTAGCCGGCAACCTGGCACACGCCGGAGCGTCAGTTGACCTGGCCATTTTCTCCCTGCACCTAGCAGGCATCTCCTCCATCCTAGGAGCAATCAACTTTATCACTACAGCAATCAACATAAAACCACCCGCCCTATCGCAATACCAAACCCCTCTATTTGTCTGATCTGTACTAATCACTGCAGTCCTCCTACTACTATCACTCCCAGTCCTGGCCGCTGGAATCACCATGCTCCTCACCGACCGCAACCTCAACACCACCTTCTTCGACCCAGCAGGAGGAGGGGACCCAGTCCTCTACCAGCACCTCTTCTGATTCTTCGGTCACCCAGAAGTCTACATCCTAATTCTGCCAGGATTTGGCATCATCTCCCACGTCGTAGCCTACTACGCAGGCAAAAAAGAACCATTCGGCTACATAGGAATAGTATGAGCCATGCTGTCCATCGGATTCCTAGGGTTCATTGTATGGGCCCACCACATGTTCACAGTAGGAATAGATGTAGACACCCGAGCATACTTTACATCTGCCACTATAATCATCGCCATTCCAACTGGCATTAAAGTATTCAGCTGACTTGCAACACTACACGGCGGCACTATCAAATGAGACCCACCCATACTATGAGCACTAGGCTTCATCTTCCTATTCACCATCGGGGGGCTGACAGGCATCGTCCTAGCAAACTCCTCTCTGGACATCGCACTACACGACACCTACTACGTAGTAGCCCACTTCCACTACGTACTGTCAATGGGAGCAGTATTCGCAATCCTAGCAGGCTTCACTCACTGATTCCCCCTATTTACAGGATACACACTCCACTCTACATGAGCTAAAATCCACTTCGGAGTGATATTCGTAGGCGTCAACCTCACCTTCTTCCCCCAACACTTCCTGGGGCTAGCCGGCATGCCACGACGATACTCAGACTACCCAGATGCCTACACTCTATGAAATACCATCTCTTCAGTAGGCTCACTAATTTCTATAACAGCCGTAATCATGCTAGTCTTCATCATCTGAGAAGCCTTCGCATCCAAACGCAAAGCCCTACAACCAGAGCTAACAACCACAAACATCGAATGAATTCACGGCTGCCCACCCCCATTCCACACCTTCGAAGAGCCTGCCTTCGTCCAAGTCCAAGAAAGGAAGGAGTCGAACCCCCATATGTTGGTTTCAAGCCAACCGCATAAACCACTTATGCTTCTTTCTCATAAGAGGTGTTAGTAAAACAATTACATAGCCTTGTCAAGACTAAGTCACAGGTGAAAACCCTGTACACCTCTACCCAAACATGGCCAACCACTCACAACTCGGTTTCCAAGACGCTTCATCACCTATCATAGAAGAACTAGTCCAATTCCACGACCACGCCATAATGGTCGCCCTAGCTATCTGCAGCCTCGTCCTATACCTACTAACCCTCGTGCTGACAGAAAAACTATCATCAAACACGGTCGATGCACAAGCAATTGAGCTCGTCTGAACTATCCTCCCAGCCGCAGTCCTAATCACACTCGCTCTCCCATCTCTACGGATCCTCTACATGATAGACGAAATCAATGAACCAGACCTCACCCTAAAAGCCATCGGCCACCAGTGATACTGAACCTACGAGTATACTGACTTCAAAGACCTCACATTCGACTCCTACATAATCCCCACAACAGACCTACCCCTAGGCCACTTCCGACTGCTAGAAGTCGACCACCGCGTTATCGTCCCCACACACTCCACCGTCCGAGTCATTGTCACTGCAGACGACGTACTACACTCATGGGCCGTACCCAGCCTCGGTGTAAAAACTGACGCAATCCCAGGACGCCTAAATCAAACTTCCTTCCTAGCCTCTCGACCCGGAGTTTTCTACGGACAATGCTCAGAAATCTGCGGAGCAAACCACAGCTTCATGCCTATCGTAGTAGAATCTGTCCCACTCGCCAACTTCGAAAACTGATCTTCCCTGTTATCATCCTAACCATTAAGAAGCTATGGAACAGCGTTAGCCTTTTAAGCTAAAGAAAGAGGGAGATCCCTCCTTAATGATATGCCTCAACTAAATCCAAACCCTTGATTTTTTATCATGCTCATTACATGACTTACATTCTCCTGCCTCATTCAACCTAAACTTCTAACATTCGTATCCACCAACCCACCCTCTAGCAAAACCCCAACAACCCTAAACACAACCCCCTGAACCTGACCATGAGCCTAAACTTCTTCGACCAATTCTCAAGCCCCTCCCTACTAGGAATCCCCCTAATCCTCCTTGCAATGACATTTCCAGCCATCTTACTCCCCTCCCCAAACAACCGATGAATCACTAACCGCCTATCCACCCTACAACTATGATTCATCAACCTAGTCACGAAACAACTGATAACCCCACTGAACAAAAAAGGACATAAATGAGCCCTAATCCTAACATCACTAATAATCTTCCTCCTACTAATCAACCTTCTAGGCCTACTACCATATACCTTCACCCCAACTACCCAGCTATCCATAAGCCTAGCCCTAGCCTTCCCTCTATGACTTGCCACCCTCCTCACAGGACTACGCAATCAACCCACTGCCTCTCTAGGTCATCTCCTGCCAGAAGGCACTCCAACCCCCCTAATCCCAGCCCTCATCATAATCGAAACCACAAGCCTTCTCATCCGCCCATTAGCCCTAGGAGTGCGCCTAACAGCAAACCTAACAGCAGGTCACCTTCTCATCCAACTCATCTCCACAGCTACAGTAGCTCTACTCCCAACAATACCAGCAGTGTCTCTATTAACCCTACTAGTACTATTCCTGCTCACCCTTTTAGAGGTAGCCGTGGCCATAATTCAAGCCTACGTCTTCGTCCTTCTACTAAGCCTCTACCTCCAGGAAAACATCTAACCCTCAAATGGCACACCAAGCACACTCATACCACATAGTAGATCCCAGCCCATGACCTATCTTTGGAGCAGCCGCCGCCCTCCTCACCACCTCTGGCCTAACAATGTGATTCCACTCCCACTCCCCCCAACTCCTTATCCTAGGCCTCCTCACTACCGCCCTCGTCATGTTCCAATGATGACGAGATATCGTGCGAGAAAGCACATTCCAAGGGCACCACACCCCCACCGTCCAAAAAGGCCTACGCTACGGCATAGCCCTGTTCATCGTATCAGAAGCTTTTTTCTTCCTGGGCTTCTTTTGAGCTTTCTTCCACTCAAGCCTAGCCCCCACCCCAGAACTCGGAGGCCAATGACCCCCCGTCGGGATCAAGCCTCTAAACCCAATAGAAGTACCCCTCCTAAACACCGCCATCCTACTAGCCTCCGGAGTTACAGTCACATGAGCCCACCATAGCATCACAGGAGCCCTCCGAAAACAAGCAATCCAAGCCCTCACCCTAACAGTCCTCCTAGGCCTTTACTTCACTGCCCTACAAGCCATAGAATACTACGAAGCTCCATTCTCCATCGCAGACGGAGTATACGGCTCCACATTCTTTGTCGCCACCGGATTCCACGGCCTACATGTCATCATCGGCACTACCTTCCTCCTAGTATGTCTCATCCGCCTGATCAAATATCACTTCACAACAAACCACCATTTTGGCTTTGAAGCCGCAGCCTGATATTGACACTTCGTAGACGTCGTTTGACTATTCCTCTACATGTCCATCTACTGATGAGGATCTTGCTCTTCTAGTATACTTATTACAATCGACTTCCAATCCCTAGAATCTGGTTTAAGCCCAGAGAAGAGCAATGAACATAATCACATTCATAATCTCCCTATCCCTAGCGCTAAGCATCGCCCTAACCACACTAAACTTCTGACTTGCCCAAACAAACCCTGACCCAGAGAAACTATCCCCATACGAATGCGGCTTTGACCCCCTAGGCTCCGCCCGCCTGCCTTTCTCCATTCGATTCTTCCTAGTGGCTATCCTATTCCTGCTATTCGACCTAGAAATCGCCCTACTACTCCCCCTCCCATGAGCCACCCAACTACAAAACCCTACCACTACACTATTCTGAGCCTCCCTCCTCATTCTCCTTCTCACCCTAGGACTAATCCACGAATGAGCCCAAGGAGGCCTAGAATGAGCAGAATAAACATCGAGTTAGTCTAAACAAGACAGTTGATTTCGGCTCAACAGATTATAGCCACCACCCTATAACTTTCTTTATGACCCTCTTTCATCTAAGCTTTTACTCAGCCTTCACCCTAAGCAGCTTAGGCCTAGCATTCCACCGAACCCACCTAATCTCGGCTCTACTATGTCTAGAAAGCATAATATTATCCATGTATGTCGCCCTATCAATATGACCAATCCAAACACAATCCTCCTCCTCAACCCTCCTACCAATCTTAATATTAACCTTCTCTGCGTGCGAAGCAGGAACAGGACTCGCCCTCCTTGTAGCCTCCACCCGAACCCATGGCTCCGACCATCTCCACAACTTCAACCTCCTACAATGCTAAAAATTATAATCCCAACTATCATACTACTCCCCCTAGCCCTCCTCTCCCCCCGCAAACACGTGTGAACCAACACTACAGCGTACAGCCTACTAATCGCTACCGCTAGCCTACAATGACTAACCCCAACCTACTACCCAAGCAAAAGCCTAACTCCCTGAACCTCCCTAGACCAAATCTCCTCCCCCCTGCTAGTTCTATCTTGCTGACTACTCCCCCTCATAATCATAGCAAGCCAAAACCACTTAGAACAAGAGCCCACCACCCGCAAACGAACCTTCATCGCTACTATAATCCTAGCCCAACCCTTCATCCTCCTAGCCTTTTCGGCCTCAGAACTAATACTCTTTTACATTGCATTCGAAGCCACCCTGATTCCAACCCTAATTCTCATCACTCGATGGGGTAGCCAGCCAGAACGCCTAAACGCAGGCATTTACCTACTATTCTACACATTAGCTAGCTCCCTCCCATTACTAATCACCATCCTCCACCTTCATAACCAGATCGGAACCCTATACCTCCCTATACTCAAACTCTCACATCCATCAATAACTGACTCATGAACAAACCTCATATCCACCCTAGCCCTCCTAATAGCCTTCATAGTCAAAGCCCCTTTATACGGACTCCACTTATGACTACCTAAAGCCCATGTAGAGGCTCCAATTGCCGGCTCTATACTCCTTGCCGCCCTCCTACTAAAGCTAGGGGGCTATGGCATTATGCGTATCACAATCCTAGTAAACCCCTCACTAAGCAACCTCCACTACCCCTTTATCACCCTAGCCCTATGAGGAGCCCTAATAACCAGCGCCATCTGCCTGCGCCAAATCGACCTAAAATCCTTAATTGCCTACTCATCCGTCAGCCACATGGGTCTGGTGGTTGCCGCAACCATAATCCAAACCCAGTGAGCATTCTCCGGGGCTATAATCCTAATAATCGCACACGGCCTGACCTCCTCCATACTGTTCTGCCTAGCCAACACTAACTACGAACGAACTCACAGCCGAATCCTGCTACTCACACGAGGCATTCAGCCCCTCCTCCCCCTTATAGCCACCTGATGACTCATAGCAAACCTAACAAACATAGCCCTCCCCCCAACAATCAACCTGATAGCTGAACTAACCATTATAGTCGCCCTGTTCAACTGATCCTCACTCACGATCATCCTGACCGGAACAGCAATCCTACTAACTGCCTCATACACCCTATACATACTAATGATAACACAACGGGGAACTCTCCCATCCCACATCACATCAATTCAAAACTCCTCTACACGAGAGCACCTCCTCATAGCCCTACACATAATCCCCATAATCCTCCTCATCCTCAAGCCTCAACTAATCTCGGGCCTCCCAATATGCAGATATAGTTTCAACTCAAACATTAGACTGTGATCCTAAAGATAGAAGTTAAAACCTTCTTATCTGCCGAGGGGAGGTTTAACCAACAGGAACTGCTAACTCTTGTATCTGAGTATAAACCCTCAGCCCCCTTACTTTCAAAGGATAACAGTAATCCAATGGTCTTAGGAGCCACTCATCTTGGTGCAAATCCAAGTGAAAGTAATGGACCTACCCCTTATCCTAACCACCCTCATGCTACTAACCATAGCAACCCTCTCCACCCCCATCATCTTCCCCCTCCTATCAGACAGCCTCAAAAACACCCCAACCACCATCACAAACACAGTTAAAACCTCCTTCCTAATCAGCTTAATTCCAATAATAATCCACATCCACTCAGGGACAGAGAGCTTAGTCTTCCTATGAGAATGAAAATACATCATAAATTTCAAAATCCCCCTCAGCCTAAAAATAGATTTCTACTCCCTCACGTTCTTCCCAATTGCCCTATTCGTATCATGGTCCATCCTACAATTTGCAACATGATACATAGCATCAGACCCTTACATTACAAAATTCTTCACCTACCTCCTATTATTCCTAATCGCAATATTAATCCTAATCGTAGCTAACAACCTATTCGTCCTCTTCATCGGCTGAGAAGGTGTAGGAATCATGTCCTTCCTTCTAATCAGCTGATGACATGGCCGAGCAGAAGCCAACACCGCCGCCCTCCAAGCCGTCCTCTACAACCGAATCGGAGATGTTGGCCTCATCCTCTGCATGGCATGATTAGCCCACACAATAAACACCTGGGAAATCCAACAGCTTCCGTCCCCCACTCAAACCCCCACACTACCCCTACTAGGCCTAATCCTAGCCGCAACAGGCAAGTCAGCCCAATTTGGCCTTCACCCATGACTCCCCGCTGCCATAGAAGGTCCAACCCCCGTATCCGCCCTACTCCACTCCAGCACAATAGTAGTAGCCGGAATCTTCCTCCTCATCCGAACCCACCCCCTATTCACCAACAACCAAAACGCCCTCACTCTCTGCCTCTGCCTAGGGGCCCTCTCCACCCTATTCGCAGCCACATGCGCCCTCACCCAAAACGACATCAAAAAAATCATTGCCTTCTCTACCTCAAGCCAACTCGGCTTAATAATGGTCACCATTGGACTGAACCTCCCACAGCTAGCCTTCCTCCACATCTCAACACATGCATTCTTTAAAGCAATACTATTCCTATGCTCAGGCTCTATCATCCACAACCTCAATGGAGAACAGGACATCCGAAAAATAGGAGGCCTACAAAAAATACTACCAACAACCACCTCCTGCCTCACCATTGGCAACCTAGCCCTAATAGGAACCCCATTCCTAGCAGGCTTCTACTCAAAAGACCAAATTATCGAAAGCCTAAACACCTCCTACCTAAACACATGAGCCCTTCTCCTCACCCTACTAGCCACATCCTTCACCGCGGTCTACACAATCCGCATGACTGTACTCGTACAAACCGGACATGTACGAATCCCCCCTCTCACCCCAATAAACGAGAACAACCCGGCAGTAACCTCTCCAATCACCCGACTCGCCCTTGGAAGCATCATGGCAGGCCTACTAATCACCTCATACATCCTCCCAGCAAAAACACCACCCATAACCATACCACTATCCATCAAAATCACCGCCCTAGCAGTCACAGCCCTAGGAATCCTCCTCGCCCTAGAACTGACAAAACTAACCCAAACCCTCATCCTAACAAAACAAAACCCATTCTACAACTTCTCCATCTCTCTAGGCTACTTCAACCCCCTAACACACCGACTCAACACAAAAACCCTCCTAACCGGAGGCCAAAACATCGCCTCTCACCTTGTAGACTTATCCTGATATAAACTACTAGGCCCAGAAGGTCTAGCCGAGCTACAACTGAAAGCAGCTAAAACAGCCACCACCCTTCACCCCGGCCTAATCAAAGCCTATCTAAGCTCATTCGCCCTCTCCATCCTCATTCTACTAGCATCCACATACAGAACCAACCAATGGCCCTCAACCTTCGTAAAAACCACCCTCTACTAAAAATCGTCAACGACTCCCTAGTCGACCTGCCCACACCATCAAACATCTCAACTTGATGGAACTTCGGATCCCTTCTAGGCATCTGCCTAGTTACACAAATCGTCACAGGCCTCCTACTAGCCATGCACTACACAGCAGATACCTCCCTAGCCTTCACCTCCGTCGCCCACATGTGCCGAAACGTCCAATTCGGCTGACTTATTCGCAACCTACACGCCAATGGCGCTTCCTTCTTCTTTATCTGCATTTACTTCCACATTGGCCGAGGATTCTACTACGGCTCTTACCTAAACAAAGAAACCTGAAATATCGGAGTCGTCCTACTACTGACCCTAATAGCAACCGCCTTCGTCGGCTACGTCCTGCCTTGAGGACAGATATCATTCTGAGGCGCTACAGTAATCACAAACCTATTCTCAGCAATCCCGTACATCGGCCAAACACTAGTAGAATGAGCATGAGGCGGCTTCTCAGTAGACAACCCCACCCTAACCCGATTCTTCGCCCTTCATTTCCTCCTGCCATTTGTTATCGCAGGCCTAACCCTAGTCCACCTCACCCTACTACACGAAACGGGATCAAACAACCCCCTAGGTATCCCATCGGACTGCGACAAAATCCCGTTCCACCCCTACTACTCTACAAAAGACATCCTAGGATTCGCACTAATACTTATCCTCCTCGCCTCCCTAGCCCTATTTTCACCTAATCTGCTAGGCGACCCAGAAAACTTTACACCAGCCAACCCCCTAGCCACACCCCCACACATCAAGCCTGAATGATACTTCCTATTTGCTTACGCCATCCTCCGATCCATCCCAAATAAACTAGGTGGCGTACTAGCCCTAGCCGCCTCCGTACTGGTTCTCTTCCTAATTCCCCTCCTACACACATCCAAACTACGCTCAATAACTTTCCGACCCCTCTCCCAAATCCTATTCTGAGCCCTAGTCGCCAACCTCCTTATCCTAACCTGAGTAGGCAGCCAACCAGTCGAACACCCATTCATCATCATCGGCCAACTAGCCTCTTTCACCTACTTCACAATCATCCTAATCCTCTTCCCCATCGTATCCATTCTAGAAAACAAGATACTCAAACTCTAACCAACTCTAATAGTTTATTAAAACATTGGTCTTGTAAGCCAAAGATTGAAGACTACACCCCTTCTTAGAGTTAACCTTCTCCCATTCCGGCCCCCCCTCCCCCCCAAGACACCTTGCTAGCGCTTTTCGGGGTATGTACTACCTCGCATTAACCTATTTACCCCATCAGGCATTAAGTCAATGTAGGATATTCCTCATATCAACCAACTTCATTACCGACCCAATCTCAAACACTTGTTACCATGAGATAATGTTCGTGACAATAAAACCCTCGCACACATTCTTGCCTCAGGTACCATACAACCCAAGTGATCCTAACCATGACCACACAGGCGTTACATGAGATCGACAATGCTCCCACGCACTTTACCTTGACCCGGACACGGATGAACGTCACAGCGCTCCTTTGCATTCTCCCAGCCATACGGTTCGCCCACTTCCAAAACAACATCCCGTCCAACAACTTTCAGGAACTCACAAGCCAGGGAACCCGGTTATCTATTAATCGCGCTTCTCACGAGGACCGAGCTACTCAACGTAACTTATACCCTAGTTATTGGCTTCAGGGGCATACTTTCCCTCTTACCCTCGAGGCCCTCCTTGCTCTTTTGCGCCTCCCGTGGTAACTTCAGGACCATGAACACCTTAATCCTTTGCCCTTGCTCTTCACAGATACAAATGCTTGGGTGGAGTTCCTCCTTCCTCTCGTTACTCCGGCATACTCTTCTCTCCCTCTTCCCTTTCTTTTTTTTGGGGGATCTTCAATAAACCCTTCAAGTGCGTAGCAGGAGTTATCTTCCTCTTGACATGTCCATCACATGACCGTCGAGCTGCCTAGTCCCCTCGGGCGCCCACCGAGTGTCATGGTTGAAGGATAAGTCCTACGCAAACTTGACACTGATGCACTTTGGCCCCATTCATGGACTCCGCGCTGTTTACCTCTGCAAGTACTGGATAATGCAATGGTTACCGGACATGATCCTCTTACTTCCACTTTGCTGGAACTTTCGATTAAACATCCATTTTCATCATTCATTCTTTTTATTGTGATTTTTTTTCCATCCACACAACCAGGCAAACACCTACAACCAACCCAACCACCTCGCCAACAATCATCACATTCAACCCCCACACAATCAATTAACACAAATCTCCCCTCAACATCATAACCCGTCTCAGAAGGAAAGGAATCAAACCTCCATCACCAACTCCCAAAGCTGGCATTTTAATTAAACTACCCTCTGACCTGTCTCCGCATCCACCTCCCTAAACAGCCCGAATCGCCCCCCGAGATAGACCCCGTACAAGTTCTAACACCACAAATAAAGTCAGCAACAGCCCTCACCCACCAATCAGAAATAGCCCCGCCCCTCACGAATACAGCACACCAACCCCACCAAAGTCCATCCGAACAAACGAAACCCCCACGTTATCCACCGTTCCTCCATCCACTAAAACCCCAAGCACCCCGCTCACAACAACTCCAACCACAATGACTAAACCCATCCCAAACCCATAACCAACAACCCCTCAATCCCCCCACGCCTCAGGATAAGGATCAGCTGCTAATGCTACCGAATAAACAAATACCACTAACATCCCCCCTAAATAAACCATTACCAGTACTAATGACACAAAAGACACTCCCAGACTCACTAATCAACCACACCCCGCAATAGATGCCACAACCAGCCCCAGTACCCCATAATAAGGAGAAGGATTAGAGGCCACTGCCAGACCTCCCAAAACAAAGCAAAGACTTAAAAACAGAACAAATTTTATCATGATTCCTGCTCGGCCTCTCTCCGAGATCTACGGCCTGAAAAGCCATCGTTACAACACTTTAACTACAGAAACCTACCACCACACCACATTCATGCGCTCTTTTTATTGTGACTTTTTTCATCCATACAACCAAGCGGATTCTCCCAGCCTACACGCACAACAACTGCCCCGCCGACGACACATCCTGGTCCAACCCAAATCCTCCCTCCCCTAAAAAAACAACAAAAACACGACCCGCCTACGCCCACACCCCTAAACTAACCCAT\n",
      "{'G', 'C', 'T', 'A'}\n"
     ]
    }
   ],
   "source": [
    "print(genome)\n",
    "letters=set(genome)\n",
    "print(letters)"
   ]
  },
  {
   "cell_type": "markdown",
   "id": "5fb7aac8",
   "metadata": {},
   "source": [
    "### Exercise 2 (max 5 points)\n",
    "\n",
    "Consider the set of the letters appearing in the genome string. Compute all the triplets that can be composed by using these letters (for example: `'AAC'`), by considering each and its reverse only once: for example, only one between `'AAC'` and `'CAA'` should appear in the result. Name the result `possible_triplets`."
   ]
  },
  {
   "cell_type": "code",
   "execution_count": 7,
   "id": "2b92a7be",
   "metadata": {},
   "outputs": [],
   "source": [
    "letters = set(genome)\n",
    "possible_triplets = set()\n",
    "for a in letters:\n",
    "    for b in letters:\n",
    "        for c in letters:\n",
    "            triplet = a+b+c\n",
    "            rev_triplet = c+b+a\n",
    "            if not rev_triplet in possible_triplets: \n",
    "                possible_triplets.add(triplet)"
   ]
  },
  {
   "cell_type": "code",
   "execution_count": 13,
   "id": "dab38129",
   "metadata": {},
   "outputs": [
    {
     "data": {
      "text/plain": [
       "({'AAA',\n",
       "  'ACA',\n",
       "  'AGA',\n",
       "  'ATA',\n",
       "  'CAA',\n",
       "  'CAC',\n",
       "  'CAG',\n",
       "  'CAT',\n",
       "  'CCA',\n",
       "  'CCC',\n",
       "  'CCG',\n",
       "  'CCT',\n",
       "  'CGA',\n",
       "  'CGC',\n",
       "  'CGG',\n",
       "  'CGT',\n",
       "  'CTA',\n",
       "  'CTC',\n",
       "  'CTG',\n",
       "  'CTT',\n",
       "  'GAA',\n",
       "  'GAG',\n",
       "  'GCA',\n",
       "  'GCG',\n",
       "  'GGA',\n",
       "  'GGG',\n",
       "  'GTA',\n",
       "  'GTG',\n",
       "  'TAA',\n",
       "  'TAG',\n",
       "  'TAT',\n",
       "  'TCA',\n",
       "  'TCG',\n",
       "  'TCT',\n",
       "  'TGA',\n",
       "  'TGG',\n",
       "  'TGT',\n",
       "  'TTA',\n",
       "  'TTG',\n",
       "  'TTT'},\n",
       " 40)"
      ]
     },
     "execution_count": 13,
     "metadata": {},
     "output_type": "execute_result"
    }
   ],
   "source": [
    "possible_triplets, len(possible_triplets)"
   ]
  },
  {
   "cell_type": "markdown",
   "id": "9819d7c4",
   "metadata": {},
   "source": [
    "### Exercise 3 (max 7 points)\n",
    "\n",
    "Define a function which takes a string of arbitrary length ($\\ge 3$) and a triplet, and returns the number of occurrences of the triplet or its reverse in the string. For example the triplet `'AAT'` occurs three times (twice as `'AAT'` and once as `'TAA'`) in `'CAATAATCC'` and the triplet `'AAA'` occurs five times in `'AAAAAAA'`.\n",
    "\n",
    "To get the full marks, you should declare correctly the type hints (the signature of the function) and add a doctest string."
   ]
  },
  {
   "cell_type": "code",
   "execution_count": 8,
   "id": "157348f8",
   "metadata": {},
   "outputs": [],
   "source": [
    "def num_triplets(s: str, triplet: str) -> int:\n",
    "    \"\"\"Return the number of times triplet or its reverse occurs in s.\n",
    "    \n",
    "    >>> num_triplets('CAATAATCC', 'AAT')\n",
    "    3\n",
    "    >>> num_triplets('CAATAATCC', 'TAA')\n",
    "    3\n",
    "    >>> num_triplets('AAAAAAA', 'AAA')\n",
    "    5\n",
    "    \"\"\"\n",
    "    assert len(s) >= 3 and len(triplet) == 3\n",
    "    \n",
    "    rev_triplet = triplet[-1::-1]\n",
    "    res = 0\n",
    "    for i in range(0, len(s)-2):\n",
    "        if s[i:i+3] == triplet or s[i:i+3] == rev_triplet:\n",
    "            res = res + 1\n",
    "    return res"
   ]
  },
  {
   "cell_type": "markdown",
   "id": "465cac14",
   "metadata": {},
   "source": [
    "### Exercise 4 (max 4 points)\n",
    "\n",
    "Define a pandas DataFrame indexed by the possible triplets identified in Exercise 2, with a column reporting the occurrences of each triplet in the genome under analysis. For example, the triplet `'AAA'` should have 446 occurrences."
   ]
  },
  {
   "cell_type": "code",
   "execution_count": 9,
   "id": "3529077b",
   "metadata": {},
   "outputs": [],
   "source": [
    "df = pd.DataFrame(index=possible_triplets, columns=['num'])\n",
    "df['num'] = df.index.map(lambda x: num_triplets(genome,x))"
   ]
  },
  {
   "cell_type": "code",
   "execution_count": 10,
   "id": "5056f076",
   "metadata": {},
   "outputs": [],
   "source": [
    "assert df.loc['AAA']['num'] == 446"
   ]
  },
  {
   "cell_type": "markdown",
   "id": "0c014aff",
   "metadata": {},
   "source": [
    "### Exercise 5 (max 2 points)\n",
    "\n",
    "Add a column to the dataframe with values `True` if the number of occurrences is even, and `False` otherwise."
   ]
  },
  {
   "cell_type": "code",
   "execution_count": 11,
   "id": "e2049e3b",
   "metadata": {},
   "outputs": [
    {
     "data": {
      "text/html": [
       "<div>\n",
       "<style scoped>\n",
       "    .dataframe tbody tr th:only-of-type {\n",
       "        vertical-align: middle;\n",
       "    }\n",
       "\n",
       "    .dataframe tbody tr th {\n",
       "        vertical-align: top;\n",
       "    }\n",
       "\n",
       "    .dataframe thead th {\n",
       "        text-align: right;\n",
       "    }\n",
       "</style>\n",
       "<table border=\"1\" class=\"dataframe\">\n",
       "  <thead>\n",
       "    <tr style=\"text-align: right;\">\n",
       "      <th></th>\n",
       "      <th>num</th>\n",
       "      <th>parity</th>\n",
       "    </tr>\n",
       "  </thead>\n",
       "  <tbody>\n",
       "    <tr>\n",
       "      <th>TTT</th>\n",
       "      <td>167</td>\n",
       "      <td>False</td>\n",
       "    </tr>\n",
       "    <tr>\n",
       "      <th>TCT</th>\n",
       "      <td>309</td>\n",
       "      <td>False</td>\n",
       "    </tr>\n",
       "    <tr>\n",
       "      <th>GAG</th>\n",
       "      <td>161</td>\n",
       "      <td>False</td>\n",
       "    </tr>\n",
       "    <tr>\n",
       "      <th>GAC</th>\n",
       "      <td>437</td>\n",
       "      <td>False</td>\n",
       "    </tr>\n",
       "    <tr>\n",
       "      <th>TGA</th>\n",
       "      <td>375</td>\n",
       "      <td>False</td>\n",
       "    </tr>\n",
       "    <tr>\n",
       "      <th>CTA</th>\n",
       "      <td>966</td>\n",
       "      <td>True</td>\n",
       "    </tr>\n",
       "    <tr>\n",
       "      <th>TTA</th>\n",
       "      <td>414</td>\n",
       "      <td>True</td>\n",
       "    </tr>\n",
       "    <tr>\n",
       "      <th>GCA</th>\n",
       "      <td>357</td>\n",
       "      <td>False</td>\n",
       "    </tr>\n",
       "    <tr>\n",
       "      <th>GTG</th>\n",
       "      <td>68</td>\n",
       "      <td>True</td>\n",
       "    </tr>\n",
       "    <tr>\n",
       "      <th>GTA</th>\n",
       "      <td>350</td>\n",
       "      <td>True</td>\n",
       "    </tr>\n",
       "    <tr>\n",
       "      <th>ATA</th>\n",
       "      <td>244</td>\n",
       "      <td>True</td>\n",
       "    </tr>\n",
       "    <tr>\n",
       "      <th>CCT</th>\n",
       "      <td>1145</td>\n",
       "      <td>False</td>\n",
       "    </tr>\n",
       "    <tr>\n",
       "      <th>CTC</th>\n",
       "      <td>457</td>\n",
       "      <td>False</td>\n",
       "    </tr>\n",
       "    <tr>\n",
       "      <th>GCC</th>\n",
       "      <td>538</td>\n",
       "      <td>True</td>\n",
       "    </tr>\n",
       "    <tr>\n",
       "      <th>TGT</th>\n",
       "      <td>95</td>\n",
       "      <td>False</td>\n",
       "    </tr>\n",
       "    <tr>\n",
       "      <th>GAT</th>\n",
       "      <td>399</td>\n",
       "      <td>False</td>\n",
       "    </tr>\n",
       "    <tr>\n",
       "      <th>CGA</th>\n",
       "      <td>499</td>\n",
       "      <td>False</td>\n",
       "    </tr>\n",
       "    <tr>\n",
       "      <th>GGG</th>\n",
       "      <td>91</td>\n",
       "      <td>False</td>\n",
       "    </tr>\n",
       "    <tr>\n",
       "      <th>CAC</th>\n",
       "      <td>426</td>\n",
       "      <td>True</td>\n",
       "    </tr>\n",
       "    <tr>\n",
       "      <th>TCA</th>\n",
       "      <td>741</td>\n",
       "      <td>False</td>\n",
       "    </tr>\n",
       "    <tr>\n",
       "      <th>AGA</th>\n",
       "      <td>192</td>\n",
       "      <td>True</td>\n",
       "    </tr>\n",
       "    <tr>\n",
       "      <th>TAA</th>\n",
       "      <td>653</td>\n",
       "      <td>False</td>\n",
       "    </tr>\n",
       "    <tr>\n",
       "      <th>GGC</th>\n",
       "      <td>282</td>\n",
       "      <td>True</td>\n",
       "    </tr>\n",
       "    <tr>\n",
       "      <th>CGC</th>\n",
       "      <td>160</td>\n",
       "      <td>True</td>\n",
       "    </tr>\n",
       "    <tr>\n",
       "      <th>TAT</th>\n",
       "      <td>222</td>\n",
       "      <td>True</td>\n",
       "    </tr>\n",
       "    <tr>\n",
       "      <th>GAA</th>\n",
       "      <td>456</td>\n",
       "      <td>True</td>\n",
       "    </tr>\n",
       "    <tr>\n",
       "      <th>GTT</th>\n",
       "      <td>205</td>\n",
       "      <td>False</td>\n",
       "    </tr>\n",
       "    <tr>\n",
       "      <th>ACA</th>\n",
       "      <td>426</td>\n",
       "      <td>True</td>\n",
       "    </tr>\n",
       "    <tr>\n",
       "      <th>CTT</th>\n",
       "      <td>629</td>\n",
       "      <td>False</td>\n",
       "    </tr>\n",
       "    <tr>\n",
       "      <th>GGT</th>\n",
       "      <td>198</td>\n",
       "      <td>True</td>\n",
       "    </tr>\n",
       "    <tr>\n",
       "      <th>CGT</th>\n",
       "      <td>271</td>\n",
       "      <td>False</td>\n",
       "    </tr>\n",
       "    <tr>\n",
       "      <th>GCG</th>\n",
       "      <td>64</td>\n",
       "      <td>True</td>\n",
       "    </tr>\n",
       "    <tr>\n",
       "      <th>CAT</th>\n",
       "      <td>723</td>\n",
       "      <td>False</td>\n",
       "    </tr>\n",
       "    <tr>\n",
       "      <th>CCA</th>\n",
       "      <td>1027</td>\n",
       "      <td>False</td>\n",
       "    </tr>\n",
       "    <tr>\n",
       "      <th>CCC</th>\n",
       "      <td>672</td>\n",
       "      <td>True</td>\n",
       "    </tr>\n",
       "    <tr>\n",
       "      <th>GGA</th>\n",
       "      <td>356</td>\n",
       "      <td>True</td>\n",
       "    </tr>\n",
       "    <tr>\n",
       "      <th>GCT</th>\n",
       "      <td>349</td>\n",
       "      <td>False</td>\n",
       "    </tr>\n",
       "    <tr>\n",
       "      <th>GTC</th>\n",
       "      <td>344</td>\n",
       "      <td>True</td>\n",
       "    </tr>\n",
       "    <tr>\n",
       "      <th>CAA</th>\n",
       "      <td>965</td>\n",
       "      <td>False</td>\n",
       "    </tr>\n",
       "    <tr>\n",
       "      <th>AAA</th>\n",
       "      <td>446</td>\n",
       "      <td>True</td>\n",
       "    </tr>\n",
       "  </tbody>\n",
       "</table>\n",
       "</div>"
      ],
      "text/plain": [
       "      num  parity\n",
       "TTT   167   False\n",
       "TCT   309   False\n",
       "GAG   161   False\n",
       "GAC   437   False\n",
       "TGA   375   False\n",
       "CTA   966    True\n",
       "TTA   414    True\n",
       "GCA   357   False\n",
       "GTG    68    True\n",
       "GTA   350    True\n",
       "ATA   244    True\n",
       "CCT  1145   False\n",
       "CTC   457   False\n",
       "GCC   538    True\n",
       "TGT    95   False\n",
       "GAT   399   False\n",
       "CGA   499   False\n",
       "GGG    91   False\n",
       "CAC   426    True\n",
       "TCA   741   False\n",
       "AGA   192    True\n",
       "TAA   653   False\n",
       "GGC   282    True\n",
       "CGC   160    True\n",
       "TAT   222    True\n",
       "GAA   456    True\n",
       "GTT   205   False\n",
       "ACA   426    True\n",
       "CTT   629   False\n",
       "GGT   198    True\n",
       "CGT   271   False\n",
       "GCG    64    True\n",
       "CAT   723   False\n",
       "CCA  1027   False\n",
       "CCC   672    True\n",
       "GGA   356    True\n",
       "GCT   349   False\n",
       "GTC   344    True\n",
       "CAA   965   False\n",
       "AAA   446    True"
      ]
     },
     "execution_count": 11,
     "metadata": {},
     "output_type": "execute_result"
    }
   ],
   "source": [
    "df['parity'] = df['num'] % 2 == 0\n",
    "df"
   ]
  },
  {
   "cell_type": "code",
   "execution_count": 12,
   "id": "d438cae4",
   "metadata": {},
   "outputs": [
    {
     "data": {
      "text/plain": [
       "CTA    966\n",
       "TTA    414\n",
       "GTG     68\n",
       "GTA    350\n",
       "ATA    244\n",
       "GCC    538\n",
       "CAC    426\n",
       "AGA    192\n",
       "GGC    282\n",
       "CGC    160\n",
       "TAT    222\n",
       "GAA    456\n",
       "ACA    426\n",
       "GGT    198\n",
       "GCG     64\n",
       "CCC    672\n",
       "GGA    356\n",
       "GTC    344\n",
       "AAA    446\n",
       "Name: num, dtype: int64"
      ]
     },
     "execution_count": 12,
     "metadata": {},
     "output_type": "execute_result"
    }
   ],
   "source": [
    "z=df['num'].loc[df['parity']==True]\n",
    "z"
   ]
  },
  {
   "cell_type": "code",
   "execution_count": 13,
   "id": "fabf153a",
   "metadata": {},
   "outputs": [
    {
     "data": {
      "text/html": [
       "<div>\n",
       "<style scoped>\n",
       "    .dataframe tbody tr th:only-of-type {\n",
       "        vertical-align: middle;\n",
       "    }\n",
       "\n",
       "    .dataframe tbody tr th {\n",
       "        vertical-align: top;\n",
       "    }\n",
       "\n",
       "    .dataframe thead th {\n",
       "        text-align: right;\n",
       "    }\n",
       "</style>\n",
       "<table border=\"1\" class=\"dataframe\">\n",
       "  <thead>\n",
       "    <tr style=\"text-align: right;\">\n",
       "      <th></th>\n",
       "      <th>num</th>\n",
       "      <th>parity</th>\n",
       "    </tr>\n",
       "  </thead>\n",
       "  <tbody>\n",
       "    <tr>\n",
       "      <th>CTA</th>\n",
       "      <td>966</td>\n",
       "      <td>True</td>\n",
       "    </tr>\n",
       "    <tr>\n",
       "      <th>TTA</th>\n",
       "      <td>414</td>\n",
       "      <td>True</td>\n",
       "    </tr>\n",
       "    <tr>\n",
       "      <th>GTG</th>\n",
       "      <td>68</td>\n",
       "      <td>True</td>\n",
       "    </tr>\n",
       "    <tr>\n",
       "      <th>GTA</th>\n",
       "      <td>350</td>\n",
       "      <td>True</td>\n",
       "    </tr>\n",
       "    <tr>\n",
       "      <th>ATA</th>\n",
       "      <td>244</td>\n",
       "      <td>True</td>\n",
       "    </tr>\n",
       "    <tr>\n",
       "      <th>GCC</th>\n",
       "      <td>538</td>\n",
       "      <td>True</td>\n",
       "    </tr>\n",
       "    <tr>\n",
       "      <th>CAC</th>\n",
       "      <td>426</td>\n",
       "      <td>True</td>\n",
       "    </tr>\n",
       "    <tr>\n",
       "      <th>AGA</th>\n",
       "      <td>192</td>\n",
       "      <td>True</td>\n",
       "    </tr>\n",
       "    <tr>\n",
       "      <th>GGC</th>\n",
       "      <td>282</td>\n",
       "      <td>True</td>\n",
       "    </tr>\n",
       "    <tr>\n",
       "      <th>CGC</th>\n",
       "      <td>160</td>\n",
       "      <td>True</td>\n",
       "    </tr>\n",
       "    <tr>\n",
       "      <th>TAT</th>\n",
       "      <td>222</td>\n",
       "      <td>True</td>\n",
       "    </tr>\n",
       "    <tr>\n",
       "      <th>GAA</th>\n",
       "      <td>456</td>\n",
       "      <td>True</td>\n",
       "    </tr>\n",
       "    <tr>\n",
       "      <th>ACA</th>\n",
       "      <td>426</td>\n",
       "      <td>True</td>\n",
       "    </tr>\n",
       "    <tr>\n",
       "      <th>GGT</th>\n",
       "      <td>198</td>\n",
       "      <td>True</td>\n",
       "    </tr>\n",
       "    <tr>\n",
       "      <th>GCG</th>\n",
       "      <td>64</td>\n",
       "      <td>True</td>\n",
       "    </tr>\n",
       "    <tr>\n",
       "      <th>CCC</th>\n",
       "      <td>672</td>\n",
       "      <td>True</td>\n",
       "    </tr>\n",
       "    <tr>\n",
       "      <th>GGA</th>\n",
       "      <td>356</td>\n",
       "      <td>True</td>\n",
       "    </tr>\n",
       "    <tr>\n",
       "      <th>GTC</th>\n",
       "      <td>344</td>\n",
       "      <td>True</td>\n",
       "    </tr>\n",
       "    <tr>\n",
       "      <th>AAA</th>\n",
       "      <td>446</td>\n",
       "      <td>True</td>\n",
       "    </tr>\n",
       "  </tbody>\n",
       "</table>\n",
       "</div>"
      ],
      "text/plain": [
       "     num  parity\n",
       "CTA  966    True\n",
       "TTA  414    True\n",
       "GTG   68    True\n",
       "GTA  350    True\n",
       "ATA  244    True\n",
       "GCC  538    True\n",
       "CAC  426    True\n",
       "AGA  192    True\n",
       "GGC  282    True\n",
       "CGC  160    True\n",
       "TAT  222    True\n",
       "GAA  456    True\n",
       "ACA  426    True\n",
       "GGT  198    True\n",
       "GCG   64    True\n",
       "CCC  672    True\n",
       "GGA  356    True\n",
       "GTC  344    True\n",
       "AAA  446    True"
      ]
     },
     "execution_count": 13,
     "metadata": {},
     "output_type": "execute_result"
    }
   ],
   "source": [
    "x=df.query('parity==True')\n",
    "x"
   ]
  },
  {
   "cell_type": "markdown",
   "id": "2e6f9e11",
   "metadata": {},
   "source": [
    "### Exercise 6 (max 5 points)\n",
    "\n",
    "\n",
    "Plot the histograms of occurrences, one for the triplets occuring an even number of times (let's call them \"even triplets\"), one for the others. Add to the plot two horizontal lines: one for the mean number of occurences for \"even triplets\" and one for the mean number of occurrences for the others. "
   ]
  },
  {
   "cell_type": "code",
   "execution_count": 14,
   "id": "81bd8ec0",
   "metadata": {},
   "outputs": [],
   "source": [
    "a=df['num'].loc[df['parity']==True]\n",
    "b=df['num'].loc[df['parity']==False]"
   ]
  },
  {
   "cell_type": "code",
   "execution_count": 23,
   "id": "52be05ff",
   "metadata": {},
   "outputs": [
    {
     "data": {
      "image/png": "[encoded data removed]",
      "text/plain": [
       "<Figure size 432x288 with 1 Axes>"
      ]
     },
     "metadata": {
      "needs_background": "light"
     },
     "output_type": "display_data"
    }
   ],
   "source": [
    "fig, ax = plt.subplots()\n",
    "ax.bar(a.index, a, label='Even',color='red')\n",
    "ax.bar(b.index, b, label='Odd',color='blue')\n",
    "_ = fig.legend()"
   ]
  },
  {
   "cell_type": "code",
   "execution_count": 25,
   "id": "a5378641",
   "metadata": {},
   "outputs": [
    {
     "name": "stdout",
     "output_type": "stream",
     "text": [
      "Object `.bar()` not found.\n"
     ]
    }
   ],
   "source": []
  },
  {
   "cell_type": "code",
   "execution_count": 16,
   "id": "34e21c24",
   "metadata": {},
   "outputs": [
    {
     "data": {
      "image/png": "[encoded data removed]",
      "text/plain": [
       "<Figure size 432x288 with 1 Axes>"
      ]
     },
     "metadata": {
      "needs_background": "light"
     },
     "output_type": "display_data"
    }
   ],
   "source": [
    "even = df.query('parity == True')['num']\n",
    "odd = df.query('parity == False')['num']\n",
    "\n",
    "fig, ax = plt.subplots()\n",
    "ax.bar(even.index, even, label='Even')\n",
    "ax.hlines(even.mean(), 0, len(df), label='Mean even', color='b')\n",
    "ax.bar(odd.index, odd, label='Odd')\n",
    "ax.hlines(odd.mean(), 0, len(df), label='Mean odd', color='r')\n",
    "_ = fig.legend()\n"
   ]
  },
  {
   "cell_type": "markdown",
   "id": "66286840",
   "metadata": {},
   "source": [
    "### Exercise 7 (max 3 points)\n",
    "\n",
    "Add a column with the \"standardized number of occurrences\" of each triplet. The *standardized number of occurrences* is defined as the difference between a value and the mean over all the values, divided by the standard deviation over all the values. Check that the resulting values have mean approximately equal to 0, and standard deviation approximately equal to 1. "
   ]
  },
  {
   "cell_type": "code",
   "execution_count": 17,
   "id": "e7003f04",
   "metadata": {},
   "outputs": [],
   "source": [
    "df['std_num'] = (df['num'] - df['num'].mean()) / df['num'].std()"
   ]
  },
  {
   "cell_type": "code",
   "execution_count": 18,
   "id": "c9c46c2d",
   "metadata": {},
   "outputs": [],
   "source": [
    "assert (df['std_num'].mean() - 0) < 1e-10\n",
    "assert (df['std_num'].std() - 1) < 1e-10"
   ]
  },
  {
   "cell_type": "code",
   "execution_count": null,
   "id": "182cf140",
   "metadata": {},
   "outputs": [],
   "source": []
  },
  {
   "cell_type": "markdown",
   "id": "e4dc4727",
   "metadata": {},
   "source": [
    "### Exercise 8 (max 4 points)\n",
    "\n",
    "Consider this statistical model: the *standardized number of occurrences* of even and not even triplets is normally distributed, with an unknown mean, and a standard deviation of 1. Your *a priori* estimation of the mean for both distribution is a normal distribution with mean 0 and standard deviation 2. Use PyMC to sample the posterior distributions after having seen the actual values for even and not even triplets.  Plot the results."
   ]
  },
  {
   "cell_type": "code",
   "execution_count": 19,
   "id": "cf546f95",
   "metadata": {},
   "outputs": [
    {
     "name": "stderr",
     "output_type": "stream",
     "text": [
      "Auto-assigning NUTS sampler...\n",
      "Initializing NUTS using jitter+adapt_diag...\n",
      "Multiprocess sampling (4 chains in 4 jobs)\n",
      "NUTS: [mu_o, mu_e]\n"
     ]
    },
    {
     "data": {
      "text/html": [
       "\n",
       "    <div>\n",
       "        <style>\n",
       "            /* Turns off some styling */\n",
       "            progress {\n",
       "                /* gets rid of default border in Firefox and Opera. */\n",
       "                border: none;\n",
       "                /* Needs to be in here for Safari polyfill so background images work as expected. */\n",
       "                background-size: auto;\n",
       "            }\n",
       "            .progress-bar-interrupted, .progress-bar-interrupted::-webkit-progress-bar {\n",
       "                background: #F44336;\n",
       "            }\n",
       "        </style>\n",
       "      <progress value='8000' class='' max='8000' style='width:300px; height:20px; vertical-align: middle;'></progress>\n",
       "      100.00% [8000/8000 00:02<00:00 Sampling 4 chains, 0 divergences]\n",
       "    </div>\n",
       "    "
      ],
      "text/plain": [
       "<IPython.core.display.HTML object>"
      ]
     },
     "metadata": {},
     "output_type": "display_data"
    },
    {
     "name": "stderr",
     "output_type": "stream",
     "text": [
      "Sampling 4 chains for 1_000 tune and 1_000 draw iterations (4_000 + 4_000 draws total) took 13 seconds.\n"
     ]
    }
   ],
   "source": [
    "mymodel = pm.Model()\n",
    "\n",
    "with mymodel:\n",
    "    \n",
    "    mu_e = pm.Normal('mu_e',0,2)\n",
    "    mu_o = pm.Normal('mu_o',0,2)\n",
    "    \n",
    "    e = pm.Normal('e', mu_e , 1 , observed = df.query('parity == True')['std_num'] )\n",
    "    o =  pm.Normal('o', mu_o , 1 , observed = df.query('parity == False')['std_num'] )\n",
    "    \n",
    "    post = pm.sample(return_inferencedata=False)"
   ]
  },
  {
   "cell_type": "code",
   "execution_count": 19,
   "id": "8bde7576",
   "metadata": {},
   "outputs": [
    {
     "name": "stderr",
     "output_type": "stream",
     "text": [
      "<ipython-input-19-d60e652d42f2>:12: FutureWarning: In v4.0, pm.sample will return an `arviz.InferenceData` object instead of a `MultiTrace` by default. You can pass return_inferencedata=True or return_inferencedata=False to be safe and silence this warning.\n",
      "  post = pm.sample()\n",
      "Auto-assigning NUTS sampler...\n",
      "Initializing NUTS using jitter+adapt_diag...\n",
      "Multiprocess sampling (4 chains in 4 jobs)\n",
      "NUTS: [mu_o, mu_e]\n"
     ]
    },
    {
     "data": {
      "text/html": [
       "\n",
       "    <div>\n",
       "        <style>\n",
       "            /* Turns off some styling */\n",
       "            progress {\n",
       "                /* gets rid of default border in Firefox and Opera. */\n",
       "                border: none;\n",
       "                /* Needs to be in here for Safari polyfill so background images work as expected. */\n",
       "                background-size: auto;\n",
       "            }\n",
       "            .progress-bar-interrupted, .progress-bar-interrupted::-webkit-progress-bar {\n",
       "                background: #F44336;\n",
       "            }\n",
       "        </style>\n",
       "      <progress value='8000' class='' max='8000' style='width:300px; height:20px; vertical-align: middle;'></progress>\n",
       "      100.00% [8000/8000 00:05<00:00 Sampling 4 chains, 0 divergences]\n",
       "    </div>\n",
       "    "
      ],
      "text/plain": [
       "<IPython.core.display.HTML object>"
      ]
     },
     "metadata": {},
     "output_type": "display_data"
    },
    {
     "name": "stderr",
     "output_type": "stream",
     "text": [
      "Sampling 4 chains for 1_000 tune and 1_000 draw iterations (4_000 + 4_000 draws total) took 16 seconds.\n"
     ]
    }
   ],
   "source": [
    "mymodel = pm.Model()\n",
    "\n",
    "with mymodel:\n",
    "    mu_e = pm.Normal('mu_e', 0, 2)\n",
    "    mu_o = pm.Normal('mu_o', 0, 2)\n",
    "    \n",
    "\n",
    "\n",
    "    e = pm.Normal('e', mu_e, 1, observed=df.query('parity == True')['std_num'])\n",
    "    o = pm.Normal('o', mu_o, 1, observed=df.query('parity == False')['std_num'])\n",
    "    \n",
    "    post = pm.sample()\n",
    "    "
   ]
  },
  {
   "cell_type": "code",
   "execution_count": 18,
   "id": "8f6b190a",
   "metadata": {},
   "outputs": [
    {
     "data": {
      "image/png": "[encoded data removed]",
      "text/plain": [
       "<Figure size 993.6x331.2 with 2 Axes>"
      ]
     },
     "metadata": {
      "needs_background": "light"
     },
     "output_type": "display_data"
    }
   ],
   "source": [
    "with mymodel:\n",
    "    pm.plot_posterior(post)"
   ]
  },
  {
   "cell_type": "code",
   "execution_count": null,
   "id": "2d90d489",
   "metadata": {},
   "outputs": [],
   "source": []
  }
 ],
 "metadata": {
  "jupytext": {
   "text_representation": {
    "extension": ".py",
    "format_name": "light",
    "format_version": "1.5",
    "jupytext_version": "1.12.0"
   }
  },
  "kernelspec": {
   "display_name": "Python 3",
   "language": "python",
   "name": "python3"
  },
  "language_info": {
   "codemirror_mode": {
    "name": "ipython",
    "version": 3
   },
   "file_extension": ".py",
   "mimetype": "text/x-python",
   "name": "python",
   "nbconvert_exporter": "python",
   "pygments_lexer": "ipython3",
   "version": "3.9.2"
  }
 },
 "nbformat": 4,
 "nbformat_minor": 5
}
