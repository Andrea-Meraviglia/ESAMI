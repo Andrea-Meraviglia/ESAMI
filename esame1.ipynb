{
 "cells": [
  {
   "cell_type": "markdown",
   "id": "63a6039e",
   "metadata": {},
   "source": [
    "# Programming in Python\n",
    "## Exam: June 21, 2021\n",
    "\n",
    "\n",
    "You can solve the exercises below by using standard Python 3.9 libraries, NumPy, Matplotlib, Pandas, PyMC3.\n",
    "You can browse the documentation: [Python](https://docs.python.org/3.9/), [NumPy](https://numpy.org/doc/stable/user/index.html), [Matplotlib](https://matplotlib.org/stable/contents.html), [Pandas](https://pandas.pydata.org/pandas-docs/stable/user_guide/index.html), [PyMC3](https://docs.pymc.io/).\n",
    "You can also look at the [slides of the course](https://homes.di.unimi.it/monga/lucidi2021/pyqb00.pdf) or your code on [GitHub](https://github.com).\n",
    "\n",
    "**It is forbidden to communicate with others.** \n"
   ]
  },
  {
   "cell_type": "code",
   "execution_count": 1,
   "id": "90302b45",
   "metadata": {},
   "outputs": [],
   "source": [
    "import numpy as np              # type: ignore\n",
    "import matplotlib.pyplot as plt # type: ignore\n",
    "%matplotlib inline"
   ]
  },
  {
   "cell_type": "code",
   "execution_count": 2,
   "id": "30479cea",
   "metadata": {},
   "outputs": [],
   "source": [
    "import pandas as pd     "
   ]
  },
  {
   "cell_type": "markdown",
   "id": "b67791fe",
   "metadata": {},
   "source": [
    "### Exercise 1 (max 2 points)\n",
    "\n",
    "A recent exploration of Venus has discovered a new organism, now known as *Sarchiapus Examinis*. The data collected about *Sarchiapi E.* individuals are available in the file `data.csv`. For each individual the DNA, an age in days, and a length in centimeters were recorded. \n",
    "\n",
    "Read the data in a Pandas DataFrame.\n"
   ]
  },
  {
   "cell_type": "code",
   "execution_count": 3,
   "id": "86f28d0c",
   "metadata": {},
   "outputs": [],
   "source": [
    "dna = pd.read_csv('data.csv')"
   ]
  },
  {
   "cell_type": "code",
   "execution_count": 4,
   "id": "e1d530d9",
   "metadata": {},
   "outputs": [
    {
     "data": {
      "text/html": [
       "<div>\n",
       "<style scoped>\n",
       "    .dataframe tbody tr th:only-of-type {\n",
       "        vertical-align: middle;\n",
       "    }\n",
       "\n",
       "    .dataframe tbody tr th {\n",
       "        vertical-align: top;\n",
       "    }\n",
       "\n",
       "    .dataframe thead th {\n",
       "        text-align: right;\n",
       "    }\n",
       "</style>\n",
       "<table border=\"1\" class=\"dataframe\">\n",
       "  <thead>\n",
       "    <tr style=\"text-align: right;\">\n",
       "      <th></th>\n",
       "      <th>Unnamed: 0</th>\n",
       "      <th>dna</th>\n",
       "      <th>age</th>\n",
       "      <th>length</th>\n",
       "    </tr>\n",
       "  </thead>\n",
       "  <tbody>\n",
       "    <tr>\n",
       "      <th>0</th>\n",
       "      <td>0</td>\n",
       "      <td>GACCTCCTCTGTACGGAGCAAGACCTGTCTCCGCTCAGACTGAGGG...</td>\n",
       "      <td>30</td>\n",
       "      <td>3.99</td>\n",
       "    </tr>\n",
       "    <tr>\n",
       "      <th>1</th>\n",
       "      <td>1</td>\n",
       "      <td>AGGCCCGGTTCGCTAGTCTCAGTCTCCGGGACTGGAAAGCATGTCT...</td>\n",
       "      <td>21</td>\n",
       "      <td>3.12</td>\n",
       "    </tr>\n",
       "    <tr>\n",
       "      <th>2</th>\n",
       "      <td>2</td>\n",
       "      <td>TAAGGGAATCGACATTAAGCGTTGGTCTATAAATCCGAAATTTGTA...</td>\n",
       "      <td>24</td>\n",
       "      <td>3.36</td>\n",
       "    </tr>\n",
       "    <tr>\n",
       "      <th>3</th>\n",
       "      <td>3</td>\n",
       "      <td>GCCTCCGTCTGTCCAGTACCTCTTCGAACCCATCGCAAGAGGTCGG...</td>\n",
       "      <td>20</td>\n",
       "      <td>3.93</td>\n",
       "    </tr>\n",
       "    <tr>\n",
       "      <th>4</th>\n",
       "      <td>4</td>\n",
       "      <td>CGCAAAATCGGTTCAAGTCAAGAATCTTGAAGTGACGACGATGGAG...</td>\n",
       "      <td>20</td>\n",
       "      <td>7.18</td>\n",
       "    </tr>\n",
       "    <tr>\n",
       "      <th>...</th>\n",
       "      <td>...</td>\n",
       "      <td>...</td>\n",
       "      <td>...</td>\n",
       "      <td>...</td>\n",
       "    </tr>\n",
       "    <tr>\n",
       "      <th>995</th>\n",
       "      <td>995</td>\n",
       "      <td>CCGTCAAGTGGGTCTCTTTAGAATACATTCCCTTTCCCTGGTTTCC...</td>\n",
       "      <td>27</td>\n",
       "      <td>4.25</td>\n",
       "    </tr>\n",
       "    <tr>\n",
       "      <th>996</th>\n",
       "      <td>996</td>\n",
       "      <td>GCGCAGTCGGAACCTATCGATCTCATAACCGCGGCGCTAAACCCCG...</td>\n",
       "      <td>29</td>\n",
       "      <td>9.50</td>\n",
       "    </tr>\n",
       "    <tr>\n",
       "      <th>997</th>\n",
       "      <td>997</td>\n",
       "      <td>GAACCAACTTGGCCCCATAGCGCGAACTCTTCTCACGTTGCGAGAT...</td>\n",
       "      <td>26</td>\n",
       "      <td>8.15</td>\n",
       "    </tr>\n",
       "    <tr>\n",
       "      <th>998</th>\n",
       "      <td>998</td>\n",
       "      <td>AGAGTGCCGCAGCCGTGGTGATACTCTGATGAGCCGAAATATAAAC...</td>\n",
       "      <td>25</td>\n",
       "      <td>4.82</td>\n",
       "    </tr>\n",
       "    <tr>\n",
       "      <th>999</th>\n",
       "      <td>999</td>\n",
       "      <td>CGAGACCTCTAAAGAGTGACTTATGCACAGTACCAGCCGCTAACGC...</td>\n",
       "      <td>27</td>\n",
       "      <td>4.62</td>\n",
       "    </tr>\n",
       "  </tbody>\n",
       "</table>\n",
       "<p>1000 rows × 4 columns</p>\n",
       "</div>"
      ],
      "text/plain": [
       "     Unnamed: 0                                                dna  age  \\\n",
       "0             0  GACCTCCTCTGTACGGAGCAAGACCTGTCTCCGCTCAGACTGAGGG...   30   \n",
       "1             1  AGGCCCGGTTCGCTAGTCTCAGTCTCCGGGACTGGAAAGCATGTCT...   21   \n",
       "2             2  TAAGGGAATCGACATTAAGCGTTGGTCTATAAATCCGAAATTTGTA...   24   \n",
       "3             3  GCCTCCGTCTGTCCAGTACCTCTTCGAACCCATCGCAAGAGGTCGG...   20   \n",
       "4             4  CGCAAAATCGGTTCAAGTCAAGAATCTTGAAGTGACGACGATGGAG...   20   \n",
       "..          ...                                                ...  ...   \n",
       "995         995  CCGTCAAGTGGGTCTCTTTAGAATACATTCCCTTTCCCTGGTTTCC...   27   \n",
       "996         996  GCGCAGTCGGAACCTATCGATCTCATAACCGCGGCGCTAAACCCCG...   29   \n",
       "997         997  GAACCAACTTGGCCCCATAGCGCGAACTCTTCTCACGTTGCGAGAT...   26   \n",
       "998         998  AGAGTGCCGCAGCCGTGGTGATACTCTGATGAGCCGAAATATAAAC...   25   \n",
       "999         999  CGAGACCTCTAAAGAGTGACTTATGCACAGTACCAGCCGCTAACGC...   27   \n",
       "\n",
       "     length  \n",
       "0      3.99  \n",
       "1      3.12  \n",
       "2      3.36  \n",
       "3      3.93  \n",
       "4      7.18  \n",
       "..      ...  \n",
       "995    4.25  \n",
       "996    9.50  \n",
       "997    8.15  \n",
       "998    4.82  \n",
       "999    4.62  \n",
       "\n",
       "[1000 rows x 4 columns]"
      ]
     },
     "execution_count": 4,
     "metadata": {},
     "output_type": "execute_result"
    }
   ],
   "source": [
    "dna"
   ]
  },
  {
   "cell_type": "code",
   "execution_count": 5,
   "id": "e099f58a",
   "metadata": {},
   "outputs": [
    {
     "data": {
      "text/html": [
       "<div>\n",
       "<style scoped>\n",
       "    .dataframe tbody tr th:only-of-type {\n",
       "        vertical-align: middle;\n",
       "    }\n",
       "\n",
       "    .dataframe tbody tr th {\n",
       "        vertical-align: top;\n",
       "    }\n",
       "\n",
       "    .dataframe thead th {\n",
       "        text-align: right;\n",
       "    }\n",
       "</style>\n",
       "<table border=\"1\" class=\"dataframe\">\n",
       "  <thead>\n",
       "    <tr style=\"text-align: right;\">\n",
       "      <th></th>\n",
       "      <th>mean</th>\n",
       "      <th>std</th>\n",
       "    </tr>\n",
       "    <tr>\n",
       "      <th>age</th>\n",
       "      <th></th>\n",
       "      <th></th>\n",
       "    </tr>\n",
       "  </thead>\n",
       "  <tbody>\n",
       "    <tr>\n",
       "      <th>20</th>\n",
       "      <td>6.183011</td>\n",
       "      <td>3.033944</td>\n",
       "    </tr>\n",
       "    <tr>\n",
       "      <th>21</th>\n",
       "      <td>6.123152</td>\n",
       "      <td>3.046807</td>\n",
       "    </tr>\n",
       "    <tr>\n",
       "      <th>22</th>\n",
       "      <td>6.895889</td>\n",
       "      <td>3.431232</td>\n",
       "    </tr>\n",
       "    <tr>\n",
       "      <th>23</th>\n",
       "      <td>6.496957</td>\n",
       "      <td>3.537096</td>\n",
       "    </tr>\n",
       "    <tr>\n",
       "      <th>24</th>\n",
       "      <td>6.371400</td>\n",
       "      <td>3.447384</td>\n",
       "    </tr>\n",
       "    <tr>\n",
       "      <th>25</th>\n",
       "      <td>6.092796</td>\n",
       "      <td>2.820211</td>\n",
       "    </tr>\n",
       "    <tr>\n",
       "      <th>26</th>\n",
       "      <td>6.100777</td>\n",
       "      <td>3.450832</td>\n",
       "    </tr>\n",
       "    <tr>\n",
       "      <th>27</th>\n",
       "      <td>5.965275</td>\n",
       "      <td>3.031757</td>\n",
       "    </tr>\n",
       "    <tr>\n",
       "      <th>28</th>\n",
       "      <td>6.042614</td>\n",
       "      <td>3.076516</td>\n",
       "    </tr>\n",
       "    <tr>\n",
       "      <th>29</th>\n",
       "      <td>5.920769</td>\n",
       "      <td>2.776872</td>\n",
       "    </tr>\n",
       "    <tr>\n",
       "      <th>30</th>\n",
       "      <td>6.133636</td>\n",
       "      <td>3.007639</td>\n",
       "    </tr>\n",
       "  </tbody>\n",
       "</table>\n",
       "</div>"
      ],
      "text/plain": [
       "         mean       std\n",
       "age                    \n",
       "20   6.183011  3.033944\n",
       "21   6.123152  3.046807\n",
       "22   6.895889  3.431232\n",
       "23   6.496957  3.537096\n",
       "24   6.371400  3.447384\n",
       "25   6.092796  2.820211\n",
       "26   6.100777  3.450832\n",
       "27   5.965275  3.031757\n",
       "28   6.042614  3.076516\n",
       "29   5.920769  2.776872\n",
       "30   6.133636  3.007639"
      ]
     },
     "execution_count": 5,
     "metadata": {},
     "output_type": "execute_result"
    }
   ],
   "source": [
    "pippo=dna.groupby(dna['age'])\n",
    "pippo['length'].agg(['mean','std'])"
   ]
  },
  {
   "cell_type": "code",
   "execution_count": 6,
   "id": "95baacc8",
   "metadata": {},
   "outputs": [],
   "source": [
    "    \n",
    "dna = pd.read_csv('data.csv') #import"
   ]
  },
  {
   "cell_type": "code",
   "execution_count": 7,
   "id": "4fe56211",
   "metadata": {
    "lines_to_next_cell": 2
   },
   "outputs": [
    {
     "data": {
      "text/html": [
       "<div>\n",
       "<style scoped>\n",
       "    .dataframe tbody tr th:only-of-type {\n",
       "        vertical-align: middle;\n",
       "    }\n",
       "\n",
       "    .dataframe tbody tr th {\n",
       "        vertical-align: top;\n",
       "    }\n",
       "\n",
       "    .dataframe thead th {\n",
       "        text-align: right;\n",
       "    }\n",
       "</style>\n",
       "<table border=\"1\" class=\"dataframe\">\n",
       "  <thead>\n",
       "    <tr style=\"text-align: right;\">\n",
       "      <th></th>\n",
       "      <th>Unnamed: 0</th>\n",
       "      <th>dna</th>\n",
       "      <th>age</th>\n",
       "      <th>length</th>\n",
       "    </tr>\n",
       "  </thead>\n",
       "  <tbody>\n",
       "    <tr>\n",
       "      <th>0</th>\n",
       "      <td>0</td>\n",
       "      <td>GACCTCCTCTGTACGGAGCAAGACCTGTCTCCGCTCAGACTGAGGG...</td>\n",
       "      <td>30</td>\n",
       "      <td>3.99</td>\n",
       "    </tr>\n",
       "    <tr>\n",
       "      <th>1</th>\n",
       "      <td>1</td>\n",
       "      <td>AGGCCCGGTTCGCTAGTCTCAGTCTCCGGGACTGGAAAGCATGTCT...</td>\n",
       "      <td>21</td>\n",
       "      <td>3.12</td>\n",
       "    </tr>\n",
       "    <tr>\n",
       "      <th>2</th>\n",
       "      <td>2</td>\n",
       "      <td>TAAGGGAATCGACATTAAGCGTTGGTCTATAAATCCGAAATTTGTA...</td>\n",
       "      <td>24</td>\n",
       "      <td>3.36</td>\n",
       "    </tr>\n",
       "    <tr>\n",
       "      <th>3</th>\n",
       "      <td>3</td>\n",
       "      <td>GCCTCCGTCTGTCCAGTACCTCTTCGAACCCATCGCAAGAGGTCGG...</td>\n",
       "      <td>20</td>\n",
       "      <td>3.93</td>\n",
       "    </tr>\n",
       "    <tr>\n",
       "      <th>4</th>\n",
       "      <td>4</td>\n",
       "      <td>CGCAAAATCGGTTCAAGTCAAGAATCTTGAAGTGACGACGATGGAG...</td>\n",
       "      <td>20</td>\n",
       "      <td>7.18</td>\n",
       "    </tr>\n",
       "    <tr>\n",
       "      <th>...</th>\n",
       "      <td>...</td>\n",
       "      <td>...</td>\n",
       "      <td>...</td>\n",
       "      <td>...</td>\n",
       "    </tr>\n",
       "    <tr>\n",
       "      <th>995</th>\n",
       "      <td>995</td>\n",
       "      <td>CCGTCAAGTGGGTCTCTTTAGAATACATTCCCTTTCCCTGGTTTCC...</td>\n",
       "      <td>27</td>\n",
       "      <td>4.25</td>\n",
       "    </tr>\n",
       "    <tr>\n",
       "      <th>996</th>\n",
       "      <td>996</td>\n",
       "      <td>GCGCAGTCGGAACCTATCGATCTCATAACCGCGGCGCTAAACCCCG...</td>\n",
       "      <td>29</td>\n",
       "      <td>9.50</td>\n",
       "    </tr>\n",
       "    <tr>\n",
       "      <th>997</th>\n",
       "      <td>997</td>\n",
       "      <td>GAACCAACTTGGCCCCATAGCGCGAACTCTTCTCACGTTGCGAGAT...</td>\n",
       "      <td>26</td>\n",
       "      <td>8.15</td>\n",
       "    </tr>\n",
       "    <tr>\n",
       "      <th>998</th>\n",
       "      <td>998</td>\n",
       "      <td>AGAGTGCCGCAGCCGTGGTGATACTCTGATGAGCCGAAATATAAAC...</td>\n",
       "      <td>25</td>\n",
       "      <td>4.82</td>\n",
       "    </tr>\n",
       "    <tr>\n",
       "      <th>999</th>\n",
       "      <td>999</td>\n",
       "      <td>CGAGACCTCTAAAGAGTGACTTATGCACAGTACCAGCCGCTAACGC...</td>\n",
       "      <td>27</td>\n",
       "      <td>4.62</td>\n",
       "    </tr>\n",
       "  </tbody>\n",
       "</table>\n",
       "<p>1000 rows × 4 columns</p>\n",
       "</div>"
      ],
      "text/plain": [
       "     Unnamed: 0                                                dna  age  \\\n",
       "0             0  GACCTCCTCTGTACGGAGCAAGACCTGTCTCCGCTCAGACTGAGGG...   30   \n",
       "1             1  AGGCCCGGTTCGCTAGTCTCAGTCTCCGGGACTGGAAAGCATGTCT...   21   \n",
       "2             2  TAAGGGAATCGACATTAAGCGTTGGTCTATAAATCCGAAATTTGTA...   24   \n",
       "3             3  GCCTCCGTCTGTCCAGTACCTCTTCGAACCCATCGCAAGAGGTCGG...   20   \n",
       "4             4  CGCAAAATCGGTTCAAGTCAAGAATCTTGAAGTGACGACGATGGAG...   20   \n",
       "..          ...                                                ...  ...   \n",
       "995         995  CCGTCAAGTGGGTCTCTTTAGAATACATTCCCTTTCCCTGGTTTCC...   27   \n",
       "996         996  GCGCAGTCGGAACCTATCGATCTCATAACCGCGGCGCTAAACCCCG...   29   \n",
       "997         997  GAACCAACTTGGCCCCATAGCGCGAACTCTTCTCACGTTGCGAGAT...   26   \n",
       "998         998  AGAGTGCCGCAGCCGTGGTGATACTCTGATGAGCCGAAATATAAAC...   25   \n",
       "999         999  CGAGACCTCTAAAGAGTGACTTATGCACAGTACCAGCCGCTAACGC...   27   \n",
       "\n",
       "     length  \n",
       "0      3.99  \n",
       "1      3.12  \n",
       "2      3.36  \n",
       "3      3.93  \n",
       "4      7.18  \n",
       "..      ...  \n",
       "995    4.25  \n",
       "996    9.50  \n",
       "997    8.15  \n",
       "998    4.82  \n",
       "999    4.62  \n",
       "\n",
       "[1000 rows x 4 columns]"
      ]
     },
     "execution_count": 7,
     "metadata": {},
     "output_type": "execute_result"
    }
   ],
   "source": [
    "dna"
   ]
  },
  {
   "cell_type": "markdown",
   "id": "23bb9ead",
   "metadata": {},
   "source": [
    "### Exercise 2 (max 3 points)\n",
    "\n",
    "Plot the distribution of length."
   ]
  },
  {
   "cell_type": "code",
   "execution_count": 6,
   "id": "d19e556d",
   "metadata": {},
   "outputs": [
    {
     "data": {
      "image/png": "[encoded data removed]",
      "text/plain": [
       "<Figure size 432x288 with 1 Axes>"
      ]
     },
     "metadata": {
      "needs_background": "light"
     },
     "output_type": "display_data"
    }
   ],
   "source": [
    "#plot\n",
    "fig,ax=plt.subplots()\n",
    "_=ax.hist(dna['length'], label='Young', density=True, bins='auto')\n",
    "_=ax.set_title('Length distribution')\n",
    "_=ax.set_xlabel('lenght')\n",
    "_=ax.set_ylabel('counts')\n",
    "_=ax.grid()"
   ]
  },
  {
   "cell_type": "code",
   "execution_count": 23,
   "id": "a14c9ccc",
   "metadata": {},
   "outputs": [
    {
     "data": {
      "image/png": "[encoded data removed]",
      "text/plain": [
       "<Figure size 432x288 with 2 Axes>"
      ]
     },
     "metadata": {
      "needs_background": "light"
     },
     "output_type": "display_data"
    }
   ],
   "source": [
    "fig, ax = plt.subplots(1,2)\n",
    "for i,a in enumerate(('length','age')):\n",
    "    _=ax[i].hist(dna[a],label='Young', density=True, bins='auto')\n",
    "    _=ax[i].set_xlabel(a)\n",
    "    _=ax[i].set_ylabel('counts')\n",
    "    _=ax[i].set_title('Distribution')\n"
   ]
  },
  {
   "cell_type": "markdown",
   "id": "0ae976e1",
   "metadata": {},
   "source": [
    "### Exercise 3 (max 5 points)\n",
    "\n",
    "Collect in a new Pandas DataFrame the mean and standard deviation of length for each age."
   ]
  },
  {
   "cell_type": "code",
   "execution_count": 25,
   "id": "24c17cf4",
   "metadata": {},
   "outputs": [
    {
     "data": {
      "text/html": [
       "<div>\n",
       "<style scoped>\n",
       "    .dataframe tbody tr th:only-of-type {\n",
       "        vertical-align: middle;\n",
       "    }\n",
       "\n",
       "    .dataframe tbody tr th {\n",
       "        vertical-align: top;\n",
       "    }\n",
       "\n",
       "    .dataframe thead th {\n",
       "        text-align: right;\n",
       "    }\n",
       "</style>\n",
       "<table border=\"1\" class=\"dataframe\">\n",
       "  <thead>\n",
       "    <tr style=\"text-align: right;\">\n",
       "      <th></th>\n",
       "      <th>mean</th>\n",
       "      <th>std</th>\n",
       "    </tr>\n",
       "    <tr>\n",
       "      <th>age</th>\n",
       "      <th></th>\n",
       "      <th></th>\n",
       "    </tr>\n",
       "  </thead>\n",
       "  <tbody>\n",
       "    <tr>\n",
       "      <th>20</th>\n",
       "      <td>6.183011</td>\n",
       "      <td>3.033944</td>\n",
       "    </tr>\n",
       "    <tr>\n",
       "      <th>21</th>\n",
       "      <td>6.123152</td>\n",
       "      <td>3.046807</td>\n",
       "    </tr>\n",
       "    <tr>\n",
       "      <th>22</th>\n",
       "      <td>6.895889</td>\n",
       "      <td>3.431232</td>\n",
       "    </tr>\n",
       "    <tr>\n",
       "      <th>23</th>\n",
       "      <td>6.496957</td>\n",
       "      <td>3.537096</td>\n",
       "    </tr>\n",
       "    <tr>\n",
       "      <th>24</th>\n",
       "      <td>6.371400</td>\n",
       "      <td>3.447384</td>\n",
       "    </tr>\n",
       "    <tr>\n",
       "      <th>25</th>\n",
       "      <td>6.092796</td>\n",
       "      <td>2.820211</td>\n",
       "    </tr>\n",
       "    <tr>\n",
       "      <th>26</th>\n",
       "      <td>6.100777</td>\n",
       "      <td>3.450832</td>\n",
       "    </tr>\n",
       "    <tr>\n",
       "      <th>27</th>\n",
       "      <td>5.965275</td>\n",
       "      <td>3.031757</td>\n",
       "    </tr>\n",
       "    <tr>\n",
       "      <th>28</th>\n",
       "      <td>6.042614</td>\n",
       "      <td>3.076516</td>\n",
       "    </tr>\n",
       "    <tr>\n",
       "      <th>29</th>\n",
       "      <td>5.920769</td>\n",
       "      <td>2.776872</td>\n",
       "    </tr>\n",
       "    <tr>\n",
       "      <th>30</th>\n",
       "      <td>6.133636</td>\n",
       "      <td>3.007639</td>\n",
       "    </tr>\n",
       "  </tbody>\n",
       "</table>\n",
       "</div>"
      ],
      "text/plain": [
       "         mean       std\n",
       "age                    \n",
       "20   6.183011  3.033944\n",
       "21   6.123152  3.046807\n",
       "22   6.895889  3.431232\n",
       "23   6.496957  3.537096\n",
       "24   6.371400  3.447384\n",
       "25   6.092796  2.820211\n",
       "26   6.100777  3.450832\n",
       "27   5.965275  3.031757\n",
       "28   6.042614  3.076516\n",
       "29   5.920769  2.776872\n",
       "30   6.133636  3.007639"
      ]
     },
     "execution_count": 25,
     "metadata": {},
     "output_type": "execute_result"
    }
   ],
   "source": [
    "#insert in a new data frame \n",
    "group=dna.groupby(['age'])\n",
    "group['length'].agg(['mean','std'])"
   ]
  },
  {
   "cell_type": "code",
   "execution_count": 26,
   "id": "e8634741",
   "metadata": {
    "lines_to_next_cell": 2
   },
   "outputs": [
    {
     "data": {
      "text/html": [
       "<div>\n",
       "<style scoped>\n",
       "    .dataframe tbody tr th:only-of-type {\n",
       "        vertical-align: middle;\n",
       "    }\n",
       "\n",
       "    .dataframe tbody tr th {\n",
       "        vertical-align: top;\n",
       "    }\n",
       "\n",
       "    .dataframe thead th {\n",
       "        text-align: right;\n",
       "    }\n",
       "</style>\n",
       "<table border=\"1\" class=\"dataframe\">\n",
       "  <thead>\n",
       "    <tr style=\"text-align: right;\">\n",
       "      <th></th>\n",
       "      <th>mean</th>\n",
       "      <th>std</th>\n",
       "      <th>min</th>\n",
       "    </tr>\n",
       "    <tr>\n",
       "      <th>age</th>\n",
       "      <th></th>\n",
       "      <th></th>\n",
       "      <th></th>\n",
       "    </tr>\n",
       "  </thead>\n",
       "  <tbody>\n",
       "    <tr>\n",
       "      <th>20</th>\n",
       "      <td>6.183011</td>\n",
       "      <td>3.033944</td>\n",
       "      <td>0.16</td>\n",
       "    </tr>\n",
       "    <tr>\n",
       "      <th>21</th>\n",
       "      <td>6.123152</td>\n",
       "      <td>3.046807</td>\n",
       "      <td>0.08</td>\n",
       "    </tr>\n",
       "    <tr>\n",
       "      <th>22</th>\n",
       "      <td>6.895889</td>\n",
       "      <td>3.431232</td>\n",
       "      <td>0.13</td>\n",
       "    </tr>\n",
       "    <tr>\n",
       "      <th>23</th>\n",
       "      <td>6.496957</td>\n",
       "      <td>3.537096</td>\n",
       "      <td>0.43</td>\n",
       "    </tr>\n",
       "    <tr>\n",
       "      <th>24</th>\n",
       "      <td>6.371400</td>\n",
       "      <td>3.447384</td>\n",
       "      <td>0.20</td>\n",
       "    </tr>\n",
       "    <tr>\n",
       "      <th>25</th>\n",
       "      <td>6.092796</td>\n",
       "      <td>2.820211</td>\n",
       "      <td>0.65</td>\n",
       "    </tr>\n",
       "    <tr>\n",
       "      <th>26</th>\n",
       "      <td>6.100777</td>\n",
       "      <td>3.450832</td>\n",
       "      <td>0.11</td>\n",
       "    </tr>\n",
       "    <tr>\n",
       "      <th>27</th>\n",
       "      <td>5.965275</td>\n",
       "      <td>3.031757</td>\n",
       "      <td>0.05</td>\n",
       "    </tr>\n",
       "    <tr>\n",
       "      <th>28</th>\n",
       "      <td>6.042614</td>\n",
       "      <td>3.076516</td>\n",
       "      <td>0.02</td>\n",
       "    </tr>\n",
       "    <tr>\n",
       "      <th>29</th>\n",
       "      <td>5.920769</td>\n",
       "      <td>2.776872</td>\n",
       "      <td>0.22</td>\n",
       "    </tr>\n",
       "    <tr>\n",
       "      <th>30</th>\n",
       "      <td>6.133636</td>\n",
       "      <td>3.007639</td>\n",
       "      <td>0.06</td>\n",
       "    </tr>\n",
       "  </tbody>\n",
       "</table>\n",
       "</div>"
      ],
      "text/plain": [
       "         mean       std   min\n",
       "age                          \n",
       "20   6.183011  3.033944  0.16\n",
       "21   6.123152  3.046807  0.08\n",
       "22   6.895889  3.431232  0.13\n",
       "23   6.496957  3.537096  0.43\n",
       "24   6.371400  3.447384  0.20\n",
       "25   6.092796  2.820211  0.65\n",
       "26   6.100777  3.450832  0.11\n",
       "27   5.965275  3.031757  0.05\n",
       "28   6.042614  3.076516  0.02\n",
       "29   5.920769  2.776872  0.22\n",
       "30   6.133636  3.007639  0.06"
      ]
     },
     "execution_count": 26,
     "metadata": {},
     "output_type": "execute_result"
    }
   ],
   "source": [
    "gg=dna.groupby(['age'])\n",
    "gg['length'].agg(['mean','std','min'])"
   ]
  },
  {
   "cell_type": "code",
   "execution_count": 27,
   "id": "279b7b21",
   "metadata": {},
   "outputs": [
    {
     "data": {
      "text/html": [
       "<div>\n",
       "<style scoped>\n",
       "    .dataframe tbody tr th:only-of-type {\n",
       "        vertical-align: middle;\n",
       "    }\n",
       "\n",
       "    .dataframe tbody tr th {\n",
       "        vertical-align: top;\n",
       "    }\n",
       "\n",
       "    .dataframe thead th {\n",
       "        text-align: right;\n",
       "    }\n",
       "</style>\n",
       "<table border=\"1\" class=\"dataframe\">\n",
       "  <thead>\n",
       "    <tr style=\"text-align: right;\">\n",
       "      <th></th>\n",
       "      <th>mean</th>\n",
       "      <th>std</th>\n",
       "      <th>max</th>\n",
       "    </tr>\n",
       "    <tr>\n",
       "      <th>age</th>\n",
       "      <th></th>\n",
       "      <th></th>\n",
       "      <th></th>\n",
       "    </tr>\n",
       "  </thead>\n",
       "  <tbody>\n",
       "    <tr>\n",
       "      <th>20</th>\n",
       "      <td>6.183011</td>\n",
       "      <td>3.033944</td>\n",
       "      <td>14.44</td>\n",
       "    </tr>\n",
       "    <tr>\n",
       "      <th>21</th>\n",
       "      <td>6.123152</td>\n",
       "      <td>3.046807</td>\n",
       "      <td>17.63</td>\n",
       "    </tr>\n",
       "    <tr>\n",
       "      <th>22</th>\n",
       "      <td>6.895889</td>\n",
       "      <td>3.431232</td>\n",
       "      <td>16.08</td>\n",
       "    </tr>\n",
       "    <tr>\n",
       "      <th>23</th>\n",
       "      <td>6.496957</td>\n",
       "      <td>3.537096</td>\n",
       "      <td>16.79</td>\n",
       "    </tr>\n",
       "    <tr>\n",
       "      <th>24</th>\n",
       "      <td>6.371400</td>\n",
       "      <td>3.447384</td>\n",
       "      <td>15.26</td>\n",
       "    </tr>\n",
       "    <tr>\n",
       "      <th>25</th>\n",
       "      <td>6.092796</td>\n",
       "      <td>2.820211</td>\n",
       "      <td>13.85</td>\n",
       "    </tr>\n",
       "    <tr>\n",
       "      <th>26</th>\n",
       "      <td>6.100777</td>\n",
       "      <td>3.450832</td>\n",
       "      <td>15.54</td>\n",
       "    </tr>\n",
       "    <tr>\n",
       "      <th>27</th>\n",
       "      <td>5.965275</td>\n",
       "      <td>3.031757</td>\n",
       "      <td>13.96</td>\n",
       "    </tr>\n",
       "    <tr>\n",
       "      <th>28</th>\n",
       "      <td>6.042614</td>\n",
       "      <td>3.076516</td>\n",
       "      <td>15.19</td>\n",
       "    </tr>\n",
       "    <tr>\n",
       "      <th>29</th>\n",
       "      <td>5.920769</td>\n",
       "      <td>2.776872</td>\n",
       "      <td>12.94</td>\n",
       "    </tr>\n",
       "    <tr>\n",
       "      <th>30</th>\n",
       "      <td>6.133636</td>\n",
       "      <td>3.007639</td>\n",
       "      <td>11.89</td>\n",
       "    </tr>\n",
       "  </tbody>\n",
       "</table>\n",
       "</div>"
      ],
      "text/plain": [
       "         mean       std    max\n",
       "age                           \n",
       "20   6.183011  3.033944  14.44\n",
       "21   6.123152  3.046807  17.63\n",
       "22   6.895889  3.431232  16.08\n",
       "23   6.496957  3.537096  16.79\n",
       "24   6.371400  3.447384  15.26\n",
       "25   6.092796  2.820211  13.85\n",
       "26   6.100777  3.450832  15.54\n",
       "27   5.965275  3.031757  13.96\n",
       "28   6.042614  3.076516  15.19\n",
       "29   5.920769  2.776872  12.94\n",
       "30   6.133636  3.007639  11.89"
      ]
     },
     "execution_count": 27,
     "metadata": {},
     "output_type": "execute_result"
    }
   ],
   "source": [
    "group=dna.groupby(['age'])\n",
    "group['length'].agg(['mean','std','max'])"
   ]
  },
  {
   "cell_type": "code",
   "execution_count": 28,
   "id": "46b103bc",
   "metadata": {},
   "outputs": [
    {
     "data": {
      "text/plain": [
       "0      30\n",
       "1      21\n",
       "2      24\n",
       "3      20\n",
       "4      20\n",
       "       ..\n",
       "995    27\n",
       "996    29\n",
       "997    26\n",
       "998    25\n",
       "999    27\n",
       "Name: age, Length: 1000, dtype: int64"
      ]
     },
     "execution_count": 28,
     "metadata": {},
     "output_type": "execute_result"
    }
   ],
   "source": [
    "dna['age']"
   ]
  },
  {
   "cell_type": "code",
   "execution_count": null,
   "id": "d5c61538",
   "metadata": {
    "lines_to_next_cell": 2
   },
   "outputs": [],
   "source": []
  },
  {
   "cell_type": "markdown",
   "id": "af5741da",
   "metadata": {},
   "source": [
    "### Exercise 4 (max 5 points)\n",
    "\n",
    "The gender of a *Sarchiapus E.* individual is defined by the first letter of its DNA: an `'A'` or a `'C'` is considered a male, otherwise is considered a female. Add a column to the data with the gender."
   ]
  },
  {
   "cell_type": "code",
   "execution_count": 29,
   "id": "eee00ffc",
   "metadata": {},
   "outputs": [],
   "source": [
    "def gender(stringa) -> str:\n",
    "    if(stringa[0]=='A' or stringa[0]=='C'):\n",
    "        gender='male'\n",
    "    else:\n",
    "        gender='female'\n",
    "    return (gender)"
   ]
  },
  {
   "cell_type": "code",
   "execution_count": 30,
   "id": "3a97cd88",
   "metadata": {
    "lines_to_next_cell": 2
   },
   "outputs": [],
   "source": [
    "dna['gender']=dna['dna'].map(lambda x:(gender(x)))"
   ]
  },
  {
   "cell_type": "code",
   "execution_count": 31,
   "id": "c594b453",
   "metadata": {},
   "outputs": [
    {
     "data": {
      "text/html": [
       "<div>\n",
       "<style scoped>\n",
       "    .dataframe tbody tr th:only-of-type {\n",
       "        vertical-align: middle;\n",
       "    }\n",
       "\n",
       "    .dataframe tbody tr th {\n",
       "        vertical-align: top;\n",
       "    }\n",
       "\n",
       "    .dataframe thead th {\n",
       "        text-align: right;\n",
       "    }\n",
       "</style>\n",
       "<table border=\"1\" class=\"dataframe\">\n",
       "  <thead>\n",
       "    <tr style=\"text-align: right;\">\n",
       "      <th></th>\n",
       "      <th>Unnamed: 0</th>\n",
       "      <th>dna</th>\n",
       "      <th>age</th>\n",
       "      <th>length</th>\n",
       "      <th>gender</th>\n",
       "    </tr>\n",
       "  </thead>\n",
       "  <tbody>\n",
       "    <tr>\n",
       "      <th>0</th>\n",
       "      <td>0</td>\n",
       "      <td>GACCTCCTCTGTACGGAGCAAGACCTGTCTCCGCTCAGACTGAGGG...</td>\n",
       "      <td>30</td>\n",
       "      <td>3.99</td>\n",
       "      <td>female</td>\n",
       "    </tr>\n",
       "    <tr>\n",
       "      <th>1</th>\n",
       "      <td>1</td>\n",
       "      <td>AGGCCCGGTTCGCTAGTCTCAGTCTCCGGGACTGGAAAGCATGTCT...</td>\n",
       "      <td>21</td>\n",
       "      <td>3.12</td>\n",
       "      <td>male</td>\n",
       "    </tr>\n",
       "    <tr>\n",
       "      <th>2</th>\n",
       "      <td>2</td>\n",
       "      <td>TAAGGGAATCGACATTAAGCGTTGGTCTATAAATCCGAAATTTGTA...</td>\n",
       "      <td>24</td>\n",
       "      <td>3.36</td>\n",
       "      <td>female</td>\n",
       "    </tr>\n",
       "    <tr>\n",
       "      <th>3</th>\n",
       "      <td>3</td>\n",
       "      <td>GCCTCCGTCTGTCCAGTACCTCTTCGAACCCATCGCAAGAGGTCGG...</td>\n",
       "      <td>20</td>\n",
       "      <td>3.93</td>\n",
       "      <td>female</td>\n",
       "    </tr>\n",
       "    <tr>\n",
       "      <th>4</th>\n",
       "      <td>4</td>\n",
       "      <td>CGCAAAATCGGTTCAAGTCAAGAATCTTGAAGTGACGACGATGGAG...</td>\n",
       "      <td>20</td>\n",
       "      <td>7.18</td>\n",
       "      <td>male</td>\n",
       "    </tr>\n",
       "    <tr>\n",
       "      <th>...</th>\n",
       "      <td>...</td>\n",
       "      <td>...</td>\n",
       "      <td>...</td>\n",
       "      <td>...</td>\n",
       "      <td>...</td>\n",
       "    </tr>\n",
       "    <tr>\n",
       "      <th>995</th>\n",
       "      <td>995</td>\n",
       "      <td>CCGTCAAGTGGGTCTCTTTAGAATACATTCCCTTTCCCTGGTTTCC...</td>\n",
       "      <td>27</td>\n",
       "      <td>4.25</td>\n",
       "      <td>male</td>\n",
       "    </tr>\n",
       "    <tr>\n",
       "      <th>996</th>\n",
       "      <td>996</td>\n",
       "      <td>GCGCAGTCGGAACCTATCGATCTCATAACCGCGGCGCTAAACCCCG...</td>\n",
       "      <td>29</td>\n",
       "      <td>9.50</td>\n",
       "      <td>female</td>\n",
       "    </tr>\n",
       "    <tr>\n",
       "      <th>997</th>\n",
       "      <td>997</td>\n",
       "      <td>GAACCAACTTGGCCCCATAGCGCGAACTCTTCTCACGTTGCGAGAT...</td>\n",
       "      <td>26</td>\n",
       "      <td>8.15</td>\n",
       "      <td>female</td>\n",
       "    </tr>\n",
       "    <tr>\n",
       "      <th>998</th>\n",
       "      <td>998</td>\n",
       "      <td>AGAGTGCCGCAGCCGTGGTGATACTCTGATGAGCCGAAATATAAAC...</td>\n",
       "      <td>25</td>\n",
       "      <td>4.82</td>\n",
       "      <td>male</td>\n",
       "    </tr>\n",
       "    <tr>\n",
       "      <th>999</th>\n",
       "      <td>999</td>\n",
       "      <td>CGAGACCTCTAAAGAGTGACTTATGCACAGTACCAGCCGCTAACGC...</td>\n",
       "      <td>27</td>\n",
       "      <td>4.62</td>\n",
       "      <td>male</td>\n",
       "    </tr>\n",
       "  </tbody>\n",
       "</table>\n",
       "<p>1000 rows × 5 columns</p>\n",
       "</div>"
      ],
      "text/plain": [
       "     Unnamed: 0                                                dna  age  \\\n",
       "0             0  GACCTCCTCTGTACGGAGCAAGACCTGTCTCCGCTCAGACTGAGGG...   30   \n",
       "1             1  AGGCCCGGTTCGCTAGTCTCAGTCTCCGGGACTGGAAAGCATGTCT...   21   \n",
       "2             2  TAAGGGAATCGACATTAAGCGTTGGTCTATAAATCCGAAATTTGTA...   24   \n",
       "3             3  GCCTCCGTCTGTCCAGTACCTCTTCGAACCCATCGCAAGAGGTCGG...   20   \n",
       "4             4  CGCAAAATCGGTTCAAGTCAAGAATCTTGAAGTGACGACGATGGAG...   20   \n",
       "..          ...                                                ...  ...   \n",
       "995         995  CCGTCAAGTGGGTCTCTTTAGAATACATTCCCTTTCCCTGGTTTCC...   27   \n",
       "996         996  GCGCAGTCGGAACCTATCGATCTCATAACCGCGGCGCTAAACCCCG...   29   \n",
       "997         997  GAACCAACTTGGCCCCATAGCGCGAACTCTTCTCACGTTGCGAGAT...   26   \n",
       "998         998  AGAGTGCCGCAGCCGTGGTGATACTCTGATGAGCCGAAATATAAAC...   25   \n",
       "999         999  CGAGACCTCTAAAGAGTGACTTATGCACAGTACCAGCCGCTAACGC...   27   \n",
       "\n",
       "     length  gender  \n",
       "0      3.99  female  \n",
       "1      3.12    male  \n",
       "2      3.36  female  \n",
       "3      3.93  female  \n",
       "4      7.18    male  \n",
       "..      ...     ...  \n",
       "995    4.25    male  \n",
       "996    9.50  female  \n",
       "997    8.15  female  \n",
       "998    4.82    male  \n",
       "999    4.62    male  \n",
       "\n",
       "[1000 rows x 5 columns]"
      ]
     },
     "execution_count": 31,
     "metadata": {},
     "output_type": "execute_result"
    }
   ],
   "source": [
    "dna"
   ]
  },
  {
   "cell_type": "code",
   "execution_count": null,
   "id": "02b0537e",
   "metadata": {},
   "outputs": [],
   "source": []
  },
  {
   "cell_type": "code",
   "execution_count": null,
   "id": "296333da",
   "metadata": {},
   "outputs": [],
   "source": []
  },
  {
   "cell_type": "code",
   "execution_count": null,
   "id": "98960219",
   "metadata": {},
   "outputs": [],
   "source": []
  },
  {
   "cell_type": "code",
   "execution_count": null,
   "id": "de12e13e",
   "metadata": {},
   "outputs": [],
   "source": []
  },
  {
   "cell_type": "code",
   "execution_count": null,
   "id": "a45ce9cb",
   "metadata": {},
   "outputs": [],
   "source": []
  },
  {
   "cell_type": "code",
   "execution_count": null,
   "id": "1313cce7",
   "metadata": {},
   "outputs": [],
   "source": []
  },
  {
   "cell_type": "code",
   "execution_count": null,
   "id": "75725152",
   "metadata": {},
   "outputs": [],
   "source": []
  },
  {
   "cell_type": "code",
   "execution_count": 32,
   "id": "9f3729ff",
   "metadata": {},
   "outputs": [],
   "source": [
    "#male or female\n",
    "def gender(stringa:str)-> str:\n",
    "    if (stringa[0] == 'A') or (stringa[0] == 'C'):\n",
    "        gender = 'male'\n",
    "    else:\n",
    "        gender = 'female'\n",
    "    return gender"
   ]
  },
  {
   "cell_type": "code",
   "execution_count": 33,
   "id": "8341e72f",
   "metadata": {},
   "outputs": [],
   "source": [
    "def aa(age,length):\n",
    "    b=age+lenght\n",
    "    return b"
   ]
  },
  {
   "cell_type": "code",
   "execution_count": 34,
   "id": "41bc3b28",
   "metadata": {},
   "outputs": [
    {
     "ename": "TypeError",
     "evalue": "<lambda>() missing 1 required positional argument: 'y'",
     "output_type": "error",
     "traceback": [
      "\u001b[0;31m---------------------------------------------------------------------------\u001b[0m",
      "\u001b[0;31mTypeError\u001b[0m                                 Traceback (most recent call last)",
      "\u001b[0;32m<ipython-input-34-d8557907ed89>\u001b[0m in \u001b[0;36m<module>\u001b[0;34m\u001b[0m\n\u001b[0;32m----> 1\u001b[0;31m \u001b[0mdna\u001b[0m\u001b[0;34m[\u001b[0m\u001b[0;34m'pippo'\u001b[0m\u001b[0;34m]\u001b[0m\u001b[0;34m=\u001b[0m\u001b[0mdna\u001b[0m\u001b[0;34m.\u001b[0m\u001b[0mage\u001b[0m\u001b[0;34m.\u001b[0m\u001b[0mapply\u001b[0m\u001b[0;34m(\u001b[0m\u001b[0;32mlambda\u001b[0m \u001b[0mx\u001b[0m\u001b[0;34m,\u001b[0m\u001b[0my\u001b[0m\u001b[0;34m:\u001b[0m\u001b[0;34m(\u001b[0m\u001b[0maa\u001b[0m\u001b[0;34m(\u001b[0m\u001b[0mx\u001b[0m\u001b[0;34m,\u001b[0m\u001b[0my\u001b[0m\u001b[0;34m)\u001b[0m\u001b[0;34m)\u001b[0m\u001b[0;34m)\u001b[0m\u001b[0;34m\u001b[0m\u001b[0;34m\u001b[0m\u001b[0m\n\u001b[0m",
      "\u001b[0;32m~/.local/share/virtualenvs/andreameraviglia-1_FxNzdm/lib/python3.9/site-packages/pandas/core/series.py\u001b[0m in \u001b[0;36mapply\u001b[0;34m(self, func, convert_dtype, args, **kwds)\u001b[0m\n\u001b[1;32m   4136\u001b[0m             \u001b[0;32melse\u001b[0m\u001b[0;34m:\u001b[0m\u001b[0;34m\u001b[0m\u001b[0;34m\u001b[0m\u001b[0m\n\u001b[1;32m   4137\u001b[0m                 \u001b[0mvalues\u001b[0m \u001b[0;34m=\u001b[0m \u001b[0mself\u001b[0m\u001b[0;34m.\u001b[0m\u001b[0mastype\u001b[0m\u001b[0;34m(\u001b[0m\u001b[0mobject\u001b[0m\u001b[0;34m)\u001b[0m\u001b[0;34m.\u001b[0m\u001b[0m_values\u001b[0m\u001b[0;34m\u001b[0m\u001b[0;34m\u001b[0m\u001b[0m\n\u001b[0;32m-> 4138\u001b[0;31m                 \u001b[0mmapped\u001b[0m \u001b[0;34m=\u001b[0m \u001b[0mlib\u001b[0m\u001b[0;34m.\u001b[0m\u001b[0mmap_infer\u001b[0m\u001b[0;34m(\u001b[0m\u001b[0mvalues\u001b[0m\u001b[0;34m,\u001b[0m \u001b[0mf\u001b[0m\u001b[0;34m,\u001b[0m \u001b[0mconvert\u001b[0m\u001b[0;34m=\u001b[0m\u001b[0mconvert_dtype\u001b[0m\u001b[0;34m)\u001b[0m\u001b[0;34m\u001b[0m\u001b[0;34m\u001b[0m\u001b[0m\n\u001b[0m\u001b[1;32m   4139\u001b[0m \u001b[0;34m\u001b[0m\u001b[0m\n\u001b[1;32m   4140\u001b[0m         \u001b[0;32mif\u001b[0m \u001b[0mlen\u001b[0m\u001b[0;34m(\u001b[0m\u001b[0mmapped\u001b[0m\u001b[0;34m)\u001b[0m \u001b[0;32mand\u001b[0m \u001b[0misinstance\u001b[0m\u001b[0;34m(\u001b[0m\u001b[0mmapped\u001b[0m\u001b[0;34m[\u001b[0m\u001b[0;36m0\u001b[0m\u001b[0;34m]\u001b[0m\u001b[0;34m,\u001b[0m \u001b[0mSeries\u001b[0m\u001b[0;34m)\u001b[0m\u001b[0;34m:\u001b[0m\u001b[0;34m\u001b[0m\u001b[0;34m\u001b[0m\u001b[0m\n",
      "\u001b[0;32mpandas/_libs/lib.pyx\u001b[0m in \u001b[0;36mpandas._libs.lib.map_infer\u001b[0;34m()\u001b[0m\n",
      "\u001b[0;31mTypeError\u001b[0m: <lambda>() missing 1 required positional argument: 'y'"
     ]
    }
   ],
   "source": [
    "dna['pippo']=dna.age.apply(lambda x,y:(aa(x,y)))"
   ]
  },
  {
   "cell_type": "code",
   "execution_count": 37,
   "id": "ac7a5587",
   "metadata": {},
   "outputs": [
    {
     "ename": "ValueError",
     "evalue": "The truth value of a Series is ambiguous. Use a.empty, a.bool(), a.item(), a.any() or a.all().",
     "output_type": "error",
     "traceback": [
      "\u001b[0;31m---------------------------------------------------------------------------\u001b[0m",
      "\u001b[0;31mValueError\u001b[0m                                Traceback (most recent call last)",
      "\u001b[0;32m/var/folders/4v/ly751xks6ml3kkypcly2mw9h0000gn/T/ipykernel_1179/3632303579.py\u001b[0m in \u001b[0;36m<module>\u001b[0;34m\u001b[0m\n\u001b[0;32m----> 1\u001b[0;31m \u001b[0mdna\u001b[0m\u001b[0;34m.\u001b[0m\u001b[0mage\u001b[0m \u001b[0;32mand\u001b[0m \u001b[0mdna\u001b[0m\u001b[0;34m.\u001b[0m\u001b[0mlength\u001b[0m\u001b[0;34m\u001b[0m\u001b[0;34m\u001b[0m\u001b[0m\n\u001b[0m",
      "\u001b[0;32m~/.local/share/virtualenvs/file-DyBG5nAN/lib/python3.9/site-packages/pandas/core/generic.py\u001b[0m in \u001b[0;36m__nonzero__\u001b[0;34m(self)\u001b[0m\n\u001b[1;32m   1440\u001b[0m     \u001b[0;34m@\u001b[0m\u001b[0mfinal\u001b[0m\u001b[0;34m\u001b[0m\u001b[0;34m\u001b[0m\u001b[0m\n\u001b[1;32m   1441\u001b[0m     \u001b[0;32mdef\u001b[0m \u001b[0m__nonzero__\u001b[0m\u001b[0;34m(\u001b[0m\u001b[0mself\u001b[0m\u001b[0;34m)\u001b[0m\u001b[0;34m:\u001b[0m\u001b[0;34m\u001b[0m\u001b[0;34m\u001b[0m\u001b[0m\n\u001b[0;32m-> 1442\u001b[0;31m         raise ValueError(\n\u001b[0m\u001b[1;32m   1443\u001b[0m             \u001b[0;34mf\"The truth value of a {type(self).__name__} is ambiguous. \"\u001b[0m\u001b[0;34m\u001b[0m\u001b[0;34m\u001b[0m\u001b[0m\n\u001b[1;32m   1444\u001b[0m             \u001b[0;34m\"Use a.empty, a.bool(), a.item(), a.any() or a.all().\"\u001b[0m\u001b[0;34m\u001b[0m\u001b[0;34m\u001b[0m\u001b[0m\n",
      "\u001b[0;31mValueError\u001b[0m: The truth value of a Series is ambiguous. Use a.empty, a.bool(), a.item(), a.any() or a.all()."
     ]
    }
   ],
   "source": []
  },
  {
   "cell_type": "code",
   "execution_count": 35,
   "id": "04857985",
   "metadata": {},
   "outputs": [
    {
     "data": {
      "image/png": "[encoded data removed]",
      "text/plain": [
       "<Figure size 432x288 with 1 Axes>"
      ]
     },
     "metadata": {
      "needs_background": "light"
     },
     "output_type": "display_data"
    }
   ],
   "source": [
    "fig,ax=plt.subplots()\n",
    "aa=dna.loc[dna['gender']=='female']['length']\n",
    "_=ax.hist(aa)\n",
    "_=ax.set_title('distribution of length')\n",
    "_=ax.set_xlabel('lenght')\n",
    "_=ax.grid()"
   ]
  },
  {
   "cell_type": "markdown",
   "id": "0f2edf6b",
   "metadata": {},
   "source": [
    "### Exercise 5 (max 3 points)\n",
    "\n",
    "Plot the distribution of length for male *Sarchiapi E.*.\n"
   ]
  },
  {
   "cell_type": "code",
   "execution_count": 36,
   "id": "8d1bca58",
   "metadata": {},
   "outputs": [
    {
     "data": {
      "image/png": "[encoded data removed]",
      "text/plain": [
       "<Figure size 432x288 with 1 Axes>"
      ]
     },
     "metadata": {
      "needs_background": "light"
     },
     "output_type": "display_data"
    }
   ],
   "source": [
    "fig,ax=plt.subplots()\n",
    "length_m = dna.loc[dna['gender'] =='male']['length']\n",
    "_=ax.hist(length_m)\n",
    "_=ax.set_title('distribution of length')\n",
    "_=ax.set_xlabel('lenght')\n",
    "_=ax.grid()"
   ]
  },
  {
   "cell_type": "code",
   "execution_count": 37,
   "id": "6af935b0",
   "metadata": {},
   "outputs": [
    {
     "data": {
      "text/html": [
       "<div>\n",
       "<style scoped>\n",
       "    .dataframe tbody tr th:only-of-type {\n",
       "        vertical-align: middle;\n",
       "    }\n",
       "\n",
       "    .dataframe tbody tr th {\n",
       "        vertical-align: top;\n",
       "    }\n",
       "\n",
       "    .dataframe thead tr th {\n",
       "        text-align: left;\n",
       "    }\n",
       "\n",
       "    .dataframe thead tr:last-of-type th {\n",
       "        text-align: right;\n",
       "    }\n",
       "</style>\n",
       "<table border=\"1\" class=\"dataframe\">\n",
       "  <thead>\n",
       "    <tr>\n",
       "      <th></th>\n",
       "      <th colspan=\"8\" halign=\"left\">Unnamed: 0</th>\n",
       "      <th colspan=\"5\" halign=\"left\">age</th>\n",
       "      <th colspan=\"8\" halign=\"left\">length</th>\n",
       "    </tr>\n",
       "    <tr>\n",
       "      <th></th>\n",
       "      <th>count</th>\n",
       "      <th>mean</th>\n",
       "      <th>std</th>\n",
       "      <th>min</th>\n",
       "      <th>25%</th>\n",
       "      <th>50%</th>\n",
       "      <th>75%</th>\n",
       "      <th>max</th>\n",
       "      <th>count</th>\n",
       "      <th>mean</th>\n",
       "      <th>...</th>\n",
       "      <th>75%</th>\n",
       "      <th>max</th>\n",
       "      <th>count</th>\n",
       "      <th>mean</th>\n",
       "      <th>std</th>\n",
       "      <th>min</th>\n",
       "      <th>25%</th>\n",
       "      <th>50%</th>\n",
       "      <th>75%</th>\n",
       "      <th>max</th>\n",
       "    </tr>\n",
       "    <tr>\n",
       "      <th>gender</th>\n",
       "      <th></th>\n",
       "      <th></th>\n",
       "      <th></th>\n",
       "      <th></th>\n",
       "      <th></th>\n",
       "      <th></th>\n",
       "      <th></th>\n",
       "      <th></th>\n",
       "      <th></th>\n",
       "      <th></th>\n",
       "      <th></th>\n",
       "      <th></th>\n",
       "      <th></th>\n",
       "      <th></th>\n",
       "      <th></th>\n",
       "      <th></th>\n",
       "      <th></th>\n",
       "      <th></th>\n",
       "      <th></th>\n",
       "      <th></th>\n",
       "      <th></th>\n",
       "    </tr>\n",
       "  </thead>\n",
       "  <tbody>\n",
       "    <tr>\n",
       "      <th>female</th>\n",
       "      <td>511.0</td>\n",
       "      <td>488.340509</td>\n",
       "      <td>286.398381</td>\n",
       "      <td>0.0</td>\n",
       "      <td>234.5</td>\n",
       "      <td>481.0</td>\n",
       "      <td>730.5</td>\n",
       "      <td>997.0</td>\n",
       "      <td>511.0</td>\n",
       "      <td>25.003914</td>\n",
       "      <td>...</td>\n",
       "      <td>28.0</td>\n",
       "      <td>30.0</td>\n",
       "      <td>511.0</td>\n",
       "      <td>5.931448</td>\n",
       "      <td>3.094153</td>\n",
       "      <td>0.05</td>\n",
       "      <td>3.60</td>\n",
       "      <td>5.82</td>\n",
       "      <td>7.96</td>\n",
       "      <td>16.79</td>\n",
       "    </tr>\n",
       "    <tr>\n",
       "      <th>male</th>\n",
       "      <td>489.0</td>\n",
       "      <td>511.161554</td>\n",
       "      <td>291.163777</td>\n",
       "      <td>1.0</td>\n",
       "      <td>264.0</td>\n",
       "      <td>517.0</td>\n",
       "      <td>763.0</td>\n",
       "      <td>999.0</td>\n",
       "      <td>489.0</td>\n",
       "      <td>25.014315</td>\n",
       "      <td>...</td>\n",
       "      <td>28.0</td>\n",
       "      <td>30.0</td>\n",
       "      <td>489.0</td>\n",
       "      <td>6.484847</td>\n",
       "      <td>3.187213</td>\n",
       "      <td>0.02</td>\n",
       "      <td>4.18</td>\n",
       "      <td>6.20</td>\n",
       "      <td>8.42</td>\n",
       "      <td>17.63</td>\n",
       "    </tr>\n",
       "  </tbody>\n",
       "</table>\n",
       "<p>2 rows × 24 columns</p>\n",
       "</div>"
      ],
      "text/plain": [
       "       Unnamed: 0                                                           \\\n",
       "            count        mean         std  min    25%    50%    75%    max   \n",
       "gender                                                                       \n",
       "female      511.0  488.340509  286.398381  0.0  234.5  481.0  730.5  997.0   \n",
       "male        489.0  511.161554  291.163777  1.0  264.0  517.0  763.0  999.0   \n",
       "\n",
       "          age             ...             length                            \\\n",
       "        count       mean  ...   75%   max  count      mean       std   min   \n",
       "gender                    ...                                                \n",
       "female  511.0  25.003914  ...  28.0  30.0  511.0  5.931448  3.094153  0.05   \n",
       "male    489.0  25.014315  ...  28.0  30.0  489.0  6.484847  3.187213  0.02   \n",
       "\n",
       "                                 \n",
       "         25%   50%   75%    max  \n",
       "gender                           \n",
       "female  3.60  5.82  7.96  16.79  \n",
       "male    4.18  6.20  8.42  17.63  \n",
       "\n",
       "[2 rows x 24 columns]"
      ]
     },
     "execution_count": 37,
     "metadata": {},
     "output_type": "execute_result"
    },
    {
     "data": {
      "image/png": "[encoded data removed]",
      "text/plain": [
       "<Figure size 720x720 with 1 Axes>"
      ]
     },
     "metadata": {
      "needs_background": "light"
     },
     "output_type": "display_data"
    }
   ],
   "source": [
    "ig = dna.groupby('gender')\n",
    "fig, ax = plt.subplots(figsize=(10,10))\n",
    "\n",
    "ax.hist(ig.get_group('male')['length'], bins='auto', density=True, alpha=.6, label='male')\n",
    "\n",
    "_ = fig.legend()\n",
    "ig.describe()"
   ]
  },
  {
   "cell_type": "markdown",
   "id": "065e9eab",
   "metadata": {},
   "source": [
    "### Exercise 6 (max 7 points)\n",
    "\n",
    "\n",
    "Define a function `count_twins` that takes a string and a character and returns how many times the substring composed by the character repeated twice can be found in the whole string. For example, if the string is `'ZXXZXXXZCCCX'`, and the character `'X'`, the result should be 3.\n",
    "\n",
    "To get the full marks, you should declare correctly the type hints (the *signature* of the function) and add a doctest string. "
   ]
  },
  {
   "cell_type": "code",
   "execution_count": 38,
   "id": "5144785e",
   "metadata": {},
   "outputs": [
    {
     "name": "stdout",
     "output_type": "stream",
     "text": [
      "XX\n"
     ]
    }
   ],
   "source": [
    "stringa='ZaXXZXXXZCCCX'\n",
    "print(stringa[2:4])\n",
    "carattere='X'"
   ]
  },
  {
   "cell_type": "code",
   "execution_count": 39,
   "id": "c917eca1",
   "metadata": {},
   "outputs": [],
   "source": [
    "def count_twins(stringa:str,carattere:str)->int:\n",
    "    count=0\n",
    "    for i in range(0,len(stringa)-1):\n",
    "        if(stringa[i] == stringa[i+1] == carattere):\n",
    "            count=count+1\n",
    "    return count"
   ]
  },
  {
   "cell_type": "code",
   "execution_count": 40,
   "id": "96832bec",
   "metadata": {},
   "outputs": [
    {
     "data": {
      "text/plain": [
       "3"
      ]
     },
     "execution_count": 40,
     "metadata": {},
     "output_type": "execute_result"
    }
   ],
   "source": [
    "count_twins(stringa,carattere)"
   ]
  },
  {
   "cell_type": "markdown",
   "id": "e92ea1e5",
   "metadata": {},
   "source": [
    "### Exercise 7 (max 5 points)\n",
    "\n",
    "Using the function defined in Exercise 5, add a column `a_twins` with the number of `'A'` twins in the DNA of each *Sarchiapus E.*."
   ]
  },
  {
   "cell_type": "code",
   "execution_count": 41,
   "id": "e51fc46d",
   "metadata": {},
   "outputs": [
    {
     "data": {
      "text/html": [
       "<div>\n",
       "<style scoped>\n",
       "    .dataframe tbody tr th:only-of-type {\n",
       "        vertical-align: middle;\n",
       "    }\n",
       "\n",
       "    .dataframe tbody tr th {\n",
       "        vertical-align: top;\n",
       "    }\n",
       "\n",
       "    .dataframe thead th {\n",
       "        text-align: right;\n",
       "    }\n",
       "</style>\n",
       "<table border=\"1\" class=\"dataframe\">\n",
       "  <thead>\n",
       "    <tr style=\"text-align: right;\">\n",
       "      <th></th>\n",
       "      <th>Unnamed: 0</th>\n",
       "      <th>dna</th>\n",
       "      <th>age</th>\n",
       "      <th>length</th>\n",
       "      <th>gender</th>\n",
       "      <th>a_twins</th>\n",
       "    </tr>\n",
       "  </thead>\n",
       "  <tbody>\n",
       "    <tr>\n",
       "      <th>0</th>\n",
       "      <td>0</td>\n",
       "      <td>GACCTCCTCTGTACGGAGCAAGACCTGTCTCCGCTCAGACTGAGGG...</td>\n",
       "      <td>30</td>\n",
       "      <td>3.99</td>\n",
       "      <td>female</td>\n",
       "      <td>4</td>\n",
       "    </tr>\n",
       "    <tr>\n",
       "      <th>1</th>\n",
       "      <td>1</td>\n",
       "      <td>AGGCCCGGTTCGCTAGTCTCAGTCTCCGGGACTGGAAAGCATGTCT...</td>\n",
       "      <td>21</td>\n",
       "      <td>3.12</td>\n",
       "      <td>male</td>\n",
       "      <td>5</td>\n",
       "    </tr>\n",
       "    <tr>\n",
       "      <th>2</th>\n",
       "      <td>2</td>\n",
       "      <td>TAAGGGAATCGACATTAAGCGTTGGTCTATAAATCCGAAATTTGTA...</td>\n",
       "      <td>24</td>\n",
       "      <td>3.36</td>\n",
       "      <td>female</td>\n",
       "      <td>8</td>\n",
       "    </tr>\n",
       "    <tr>\n",
       "      <th>3</th>\n",
       "      <td>3</td>\n",
       "      <td>GCCTCCGTCTGTCCAGTACCTCTTCGAACCCATCGCAAGAGGTCGG...</td>\n",
       "      <td>20</td>\n",
       "      <td>3.93</td>\n",
       "      <td>female</td>\n",
       "      <td>4</td>\n",
       "    </tr>\n",
       "    <tr>\n",
       "      <th>4</th>\n",
       "      <td>4</td>\n",
       "      <td>CGCAAAATCGGTTCAAGTCAAGAATCTTGAAGTGACGACGATGGAG...</td>\n",
       "      <td>20</td>\n",
       "      <td>7.18</td>\n",
       "      <td>male</td>\n",
       "      <td>10</td>\n",
       "    </tr>\n",
       "    <tr>\n",
       "      <th>...</th>\n",
       "      <td>...</td>\n",
       "      <td>...</td>\n",
       "      <td>...</td>\n",
       "      <td>...</td>\n",
       "      <td>...</td>\n",
       "      <td>...</td>\n",
       "    </tr>\n",
       "    <tr>\n",
       "      <th>995</th>\n",
       "      <td>995</td>\n",
       "      <td>CCGTCAAGTGGGTCTCTTTAGAATACATTCCCTTTCCCTGGTTTCC...</td>\n",
       "      <td>27</td>\n",
       "      <td>4.25</td>\n",
       "      <td>male</td>\n",
       "      <td>5</td>\n",
       "    </tr>\n",
       "    <tr>\n",
       "      <th>996</th>\n",
       "      <td>996</td>\n",
       "      <td>GCGCAGTCGGAACCTATCGATCTCATAACCGCGGCGCTAAACCCCG...</td>\n",
       "      <td>29</td>\n",
       "      <td>9.50</td>\n",
       "      <td>female</td>\n",
       "      <td>10</td>\n",
       "    </tr>\n",
       "    <tr>\n",
       "      <th>997</th>\n",
       "      <td>997</td>\n",
       "      <td>GAACCAACTTGGCCCCATAGCGCGAACTCTTCTCACGTTGCGAGAT...</td>\n",
       "      <td>26</td>\n",
       "      <td>8.15</td>\n",
       "      <td>female</td>\n",
       "      <td>8</td>\n",
       "    </tr>\n",
       "    <tr>\n",
       "      <th>998</th>\n",
       "      <td>998</td>\n",
       "      <td>AGAGTGCCGCAGCCGTGGTGATACTCTGATGAGCCGAAATATAAAC...</td>\n",
       "      <td>25</td>\n",
       "      <td>4.82</td>\n",
       "      <td>male</td>\n",
       "      <td>5</td>\n",
       "    </tr>\n",
       "    <tr>\n",
       "      <th>999</th>\n",
       "      <td>999</td>\n",
       "      <td>CGAGACCTCTAAAGAGTGACTTATGCACAGTACCAGCCGCTAACGC...</td>\n",
       "      <td>27</td>\n",
       "      <td>4.62</td>\n",
       "      <td>male</td>\n",
       "      <td>6</td>\n",
       "    </tr>\n",
       "  </tbody>\n",
       "</table>\n",
       "<p>1000 rows × 6 columns</p>\n",
       "</div>"
      ],
      "text/plain": [
       "     Unnamed: 0                                                dna  age  \\\n",
       "0             0  GACCTCCTCTGTACGGAGCAAGACCTGTCTCCGCTCAGACTGAGGG...   30   \n",
       "1             1  AGGCCCGGTTCGCTAGTCTCAGTCTCCGGGACTGGAAAGCATGTCT...   21   \n",
       "2             2  TAAGGGAATCGACATTAAGCGTTGGTCTATAAATCCGAAATTTGTA...   24   \n",
       "3             3  GCCTCCGTCTGTCCAGTACCTCTTCGAACCCATCGCAAGAGGTCGG...   20   \n",
       "4             4  CGCAAAATCGGTTCAAGTCAAGAATCTTGAAGTGACGACGATGGAG...   20   \n",
       "..          ...                                                ...  ...   \n",
       "995         995  CCGTCAAGTGGGTCTCTTTAGAATACATTCCCTTTCCCTGGTTTCC...   27   \n",
       "996         996  GCGCAGTCGGAACCTATCGATCTCATAACCGCGGCGCTAAACCCCG...   29   \n",
       "997         997  GAACCAACTTGGCCCCATAGCGCGAACTCTTCTCACGTTGCGAGAT...   26   \n",
       "998         998  AGAGTGCCGCAGCCGTGGTGATACTCTGATGAGCCGAAATATAAAC...   25   \n",
       "999         999  CGAGACCTCTAAAGAGTGACTTATGCACAGTACCAGCCGCTAACGC...   27   \n",
       "\n",
       "     length  gender  a_twins  \n",
       "0      3.99  female        4  \n",
       "1      3.12    male        5  \n",
       "2      3.36  female        8  \n",
       "3      3.93  female        4  \n",
       "4      7.18    male       10  \n",
       "..      ...     ...      ...  \n",
       "995    4.25    male        5  \n",
       "996    9.50  female       10  \n",
       "997    8.15  female        8  \n",
       "998    4.82    male        5  \n",
       "999    4.62    male        6  \n",
       "\n",
       "[1000 rows x 6 columns]"
      ]
     },
     "execution_count": 41,
     "metadata": {},
     "output_type": "execute_result"
    }
   ],
   "source": [
    "dna['a_twins']=dna['dna'].apply(lambda x:count_twins(x,'A'))\n",
    "dna"
   ]
  },
  {
   "cell_type": "markdown",
   "id": "c25b1232",
   "metadata": {},
   "source": [
    "### Exercise 8 (max 3 points)\n",
    "\n",
    "Consider the hypothesis that the length of each *Sarchiapus E.* is normally distributed with a mean equal to the number of `'A'` twins in its DNA and a standard deviation that you assume to be uniformed distributed between 0 and 10. Code this statistical hypothesis as a PyMC3 model and plot the distribution of the standard deviation after having seen the collected data."
   ]
  },
  {
   "cell_type": "code",
   "execution_count": 8,
   "id": "8d08aa7c",
   "metadata": {},
   "outputs": [],
   "source": [
    "import pymc3 as pm "
   ]
  },
  {
   "cell_type": "code",
   "execution_count": 18,
   "id": "e65b551b",
   "metadata": {},
   "outputs": [
    {
     "name": "stderr",
     "output_type": "stream",
     "text": [
      "Auto-assigning NUTS sampler...\n",
      "Initializing NUTS using jitter+adapt_diag...\n",
      "Multiprocess sampling (4 chains in 4 jobs)\n",
      "NUTS: [sigma]\n"
     ]
    },
    {
     "data": {
      "text/html": [
       "\n",
       "    <div>\n",
       "        <style>\n",
       "            /* Turns off some styling */\n",
       "            progress {\n",
       "                /* gets rid of default border in Firefox and Opera. */\n",
       "                border: none;\n",
       "                /* Needs to be in here for Safari polyfill so background images work as expected. */\n",
       "                background-size: auto;\n",
       "            }\n",
       "            .progress-bar-interrupted, .progress-bar-interrupted::-webkit-progress-bar {\n",
       "                background: #F44336;\n",
       "            }\n",
       "        </style>\n",
       "      <progress value='12000' class='' max='12000' style='width:300px; height:20px; vertical-align: middle;'></progress>\n",
       "      100.00% [12000/12000 00:03<00:00 Sampling 4 chains, 0 divergences]\n",
       "    </div>\n",
       "    "
      ],
      "text/plain": [
       "<IPython.core.display.HTML object>"
      ]
     },
     "metadata": {},
     "output_type": "display_data"
    },
    {
     "name": "stderr",
     "output_type": "stream",
     "text": [
      "Sampling 4 chains for 1_000 tune and 2_000 draw iterations (4_000 + 8_000 draws total) took 11 seconds.\n",
      "/Users/andreameraviglia/.local/share/virtualenvs/andreameraviglia-1_FxNzdm/lib/python3.9/site-packages/arviz/data/io_pymc3.py:96: FutureWarning: Using `from_pymc3` without the model will be deprecated in a future release. Not using the model will return less accurate and less useful results. Make sure you use the model argument or call from_pymc3 within a model context.\n",
      "  warnings.warn(\n"
     ]
    },
    {
     "data": {
      "text/plain": [
       "<AxesSubplot:title={'center':'sigma'}>"
      ]
     },
     "execution_count": 18,
     "metadata": {},
     "output_type": "execute_result"
    },
    {
     "data": {
      "image/png": "[encoded data removed]",
      "text/plain": [
       "<Figure size 432x288 with 1 Axes>"
      ]
     },
     "metadata": {
      "needs_background": "light"
     },
     "output_type": "display_data"
    }
   ],
   "source": [
    "mymodel= pm.Model()\n",
    "\n",
    "with mymodel:\n",
    "    \n",
    "    mu=dna['a_twins']\n",
    "    sigma=pm.Uniform('sigma',0,10)\n",
    "    \n",
    "    length=pm.Normal('length',mu,sigma, observed=dna['length'])\n",
    "    \n",
    "    post=pm.sample(2000, return_inferencedata=False )\n",
    "    \n",
    "pm.plot_posterior(post)"
   ]
  },
  {
   "cell_type": "code",
   "execution_count": 17,
   "id": "1e4b318d",
   "metadata": {},
   "outputs": [
    {
     "data": {
      "image/png": "[encoded data removed]",
      "text/plain": [
       "<Figure size 432x288 with 1 Axes>"
      ]
     },
     "metadata": {
      "needs_background": "light"
     },
     "output_type": "display_data"
    }
   ],
   "source": [
    "with mymodel:\n",
    "    pm.plot_posterior(post)"
   ]
  },
  {
   "cell_type": "code",
   "execution_count": null,
   "id": "77b53297",
   "metadata": {},
   "outputs": [],
   "source": []
  },
  {
   "cell_type": "code",
   "execution_count": null,
   "id": "6031f311",
   "metadata": {},
   "outputs": [],
   "source": []
  },
  {
   "cell_type": "code",
   "execution_count": null,
   "id": "26f6eeb3",
   "metadata": {},
   "outputs": [],
   "source": []
  },
  {
   "cell_type": "code",
   "execution_count": null,
   "id": "a56c916e",
   "metadata": {},
   "outputs": [],
   "source": []
  },
  {
   "cell_type": "code",
   "execution_count": null,
   "id": "60732832",
   "metadata": {},
   "outputs": [],
   "source": []
  },
  {
   "cell_type": "code",
   "execution_count": null,
   "id": "d092434c",
   "metadata": {},
   "outputs": [],
   "source": []
  },
  {
   "cell_type": "code",
   "execution_count": null,
   "id": "2f049361",
   "metadata": {},
   "outputs": [],
   "source": []
  },
  {
   "cell_type": "code",
   "execution_count": null,
   "id": "0f0e003a",
   "metadata": {},
   "outputs": [],
   "source": []
  },
  {
   "cell_type": "code",
   "execution_count": null,
   "id": "b83eb5c2",
   "metadata": {},
   "outputs": [],
   "source": []
  },
  {
   "cell_type": "code",
   "execution_count": 39,
   "id": "84378e40",
   "metadata": {},
   "outputs": [],
   "source": [
    "length_pm= pm.Model() \n",
    "\n",
    "with length_pm:\n",
    "    \n",
    "   \n",
    "    sigma=pm.Uniform('sigma',0,10)\n",
    "    \n",
    "    o = pm.Normal('length',dna['a_twins'], sigma, observed=dna['length']) \n",
    "    "
   ]
  },
  {
   "cell_type": "code",
   "execution_count": 40,
   "id": "e4998534",
   "metadata": {},
   "outputs": [
    {
     "name": "stderr",
     "output_type": "stream",
     "text": [
      "Auto-assigning NUTS sampler...\n",
      "Initializing NUTS using jitter+adapt_diag...\n",
      "Multiprocess sampling (4 chains in 4 jobs)\n",
      "NUTS: [sigma]\n"
     ]
    },
    {
     "data": {
      "text/html": [
       "\n",
       "    <div>\n",
       "        <style>\n",
       "            /* Turns off some styling */\n",
       "            progress {\n",
       "                /* gets rid of default border in Firefox and Opera. */\n",
       "                border: none;\n",
       "                /* Needs to be in here for Safari polyfill so background images work as expected. */\n",
       "                background-size: auto;\n",
       "            }\n",
       "            .progress-bar-interrupted, .progress-bar-interrupted::-webkit-progress-bar {\n",
       "                background: #F44336;\n",
       "            }\n",
       "        </style>\n",
       "      <progress value='12000' class='' max='12000' style='width:300px; height:20px; vertical-align: middle;'></progress>\n",
       "      100.00% [12000/12000 00:04<00:00 Sampling 4 chains, 0 divergences]\n",
       "    </div>\n",
       "    "
      ],
      "text/plain": [
       "<IPython.core.display.HTML object>"
      ]
     },
     "metadata": {},
     "output_type": "display_data"
    },
    {
     "name": "stderr",
     "output_type": "stream",
     "text": [
      "Sampling 4 chains for 1_000 tune and 2_000 draw iterations (4_000 + 8_000 draws total) took 18 seconds.\n"
     ]
    }
   ],
   "source": [
    "with length_pm:\n",
    "    posterior= pm.sample(2000, return_inferencedata=False)"
   ]
  },
  {
   "cell_type": "code",
   "execution_count": 42,
   "id": "3097eece",
   "metadata": {
    "lines_to_next_cell": 2
   },
   "outputs": [
    {
     "data": {
      "image/png": "[encoded data removed]",
      "text/plain": [
       "<Figure size 432x288 with 1 Axes>"
      ]
     },
     "metadata": {
      "needs_background": "light"
     },
     "output_type": "display_data"
    }
   ],
   "source": [
    "with length_pm:\n",
    "    pm.plot_posterior(posterior)"
   ]
  },
  {
   "cell_type": "code",
   "execution_count": 40,
   "id": "7745c360",
   "metadata": {},
   "outputs": [
    {
     "data": {
      "image/png": "[encoded data removed]",
      "text/plain": [
       "<Figure size 432x288 with 1 Axes>"
      ]
     },
     "metadata": {
      "needs_background": "light"
     },
     "output_type": "display_data"
    }
   ],
   "source": [
    "fig, ax =plt.subplots()\n",
    "_=ax.hist(posterior['sigma'],bins='auto',density=True, color='c', ec='k')\n",
    "_=ax.set_title('posterior lenght')\n",
    "_=ax.grid()"
   ]
  },
  {
   "cell_type": "code",
   "execution_count": null,
   "id": "ad3f7666",
   "metadata": {},
   "outputs": [],
   "source": []
  }
 ],
 "metadata": {
  "jupytext": {
   "text_representation": {
    "extension": ".py",
    "format_name": "light",
    "format_version": "1.5",
    "jupytext_version": "1.12.0"
   }
  },
  "kernelspec": {
   "display_name": "Python 3",
   "language": "python",
   "name": "python3"
  },
  "language_info": {
   "codemirror_mode": {
    "name": "ipython",
    "version": 3
   },
   "file_extension": ".py",
   "mimetype": "text/x-python",
   "name": "python",
   "nbconvert_exporter": "python",
   "pygments_lexer": "ipython3",
   "version": "3.9.2"
  }
 },
 "nbformat": 4,
 "nbformat_minor": 5
}
